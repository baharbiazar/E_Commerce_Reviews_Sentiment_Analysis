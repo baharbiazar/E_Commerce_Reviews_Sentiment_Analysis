{
 "cells": [
  {
   "cell_type": "code",
   "execution_count": 2,
   "id": "bfd721e5",
   "metadata": {},
   "outputs": [],
   "source": [
    "import sys\n",
    "import warnings\n",
    "\n",
    "if not sys.warnoptions:\n",
    "    warnings.simplefilter(\"ignore\")"
   ]
  },
  {
   "cell_type": "code",
   "execution_count": 117,
   "id": "ec51823f",
   "metadata": {},
   "outputs": [],
   "source": [
    "import pandas as pd\n",
    "import numpy as np\n",
    "import matplotlib.pyplot as plt\n",
    "import seaborn as sns\n",
    "\n",
    "import string\n",
    "\n",
    "import time\n",
    "\n",
    "import re"
   ]
  },
  {
   "cell_type": "code",
   "execution_count": 267,
   "id": "4aa9af15",
   "metadata": {},
   "outputs": [],
   "source": [
    "from sklearn.feature_extraction.text import CountVectorizer, TfidfVectorizer\n",
    "\n",
    "\n",
    "from sklearn.model_selection import train_test_split\n",
    "from sklearn.model_selection import cross_val_score\n",
    "from sklearn.model_selection import cross_val_predict\n",
    "\n",
    "from sklearn.linear_model import LogisticRegression\n",
    "from sklearn.ensemble import RandomForestClassifier\n",
    "from sklearn.naive_bayes import GaussianNB\n",
    "#from sklearn.svm import LinearSVC\n",
    "\n",
    "from sklearn.metrics import confusion_matrix\n",
    "from sklearn.metrics import precision_score, recall_score, accuracy_score, f1_score, average_precision_score\n",
    "from sklearn.metrics import f1_score\n",
    "from sklearn.metrics import precision_recall_curve\n",
    "from sklearn.metrics import roc_curve\n",
    "from sklearn.metrics import roc_auc_score\n",
    "from sklearn.metrics import classification_report\n",
    "\n",
    "from imblearn.over_sampling import SMOTE , SMOTEN"
   ]
  },
  {
   "cell_type": "code",
   "execution_count": 13,
   "id": "07ec6d37",
   "metadata": {},
   "outputs": [],
   "source": [
    "from nltk.corpus import stopwords\n",
    "from nltk.util import ngrams\n",
    "from nltk.tokenize import sent_tokenize, word_tokenize\n",
    "from nltk.corpus import stopwords\n",
    "from nltk.stem.snowball import SnowballStemmer\n",
    "from nltk.stem import WordNetLemmatizer\n",
    "from nltk.stem import PorterStemmer\n",
    "\n",
    "from xgboost import XGBClassifier"
   ]
  },
  {
   "cell_type": "code",
   "execution_count": 258,
   "id": "9c9c95e4",
   "metadata": {},
   "outputs": [],
   "source": [
    "from sklearn.pipeline import Pipeline\n",
    "from joblib import dump , load"
   ]
  },
  {
   "cell_type": "code",
   "execution_count": 259,
   "id": "662dfd0e",
   "metadata": {},
   "outputs": [
    {
     "name": "stdout",
     "output_type": "stream",
     "text": [
      "main df and clean df shape: (23486, 11) (22641, 11)\n",
      "X.shape: (22641,) \t y_shape: (22641, 1)\n",
      "train_test_split: (15848,) (6793,) \t (15848, 1) (6793, 1)\n"
     ]
    }
   ],
   "source": [
    "# Preparing the main corpus\n",
    "main_df= pd.read_csv('data/reviews.csv')\n",
    "\n",
    "# Remove nan reviews\n",
    "df= main_df.copy()\n",
    "df.dropna(subset= ['Review Text'], inplace= True)\n",
    "\n",
    "print('main df and clean df shape:',main_df.shape , df.shape)\n",
    "\n",
    "# X , y\n",
    "\n",
    "X = df['Review Text']\n",
    "y= df[\"Recommended IND\"].values.reshape(-1,1)\n",
    "print(\"X.shape:\", X.shape, '\\t y_shape:', y.shape)\n",
    "\n",
    "\n",
    "X_train, X_test, y_train, y_test = train_test_split(X , y , stratify =y , test_size = 0.3, random_state= 100)\n",
    "print('train_test_split:',X_train.shape , X_test.shape,'\\t', y_train.shape, y_test.shape)"
   ]
  },
  {
   "cell_type": "code",
   "execution_count": 128,
   "id": "7787cff4",
   "metadata": {
    "collapsed": true
   },
   "outputs": [
    {
     "data": {
      "text/plain": [
       "(15848, 17614)"
      ]
     },
     "execution_count": 128,
     "metadata": {},
     "output_type": "execute_result"
    }
   ],
   "source": [
    "train_feature_set.shape"
   ]
  },
  {
   "cell_type": "code",
   "execution_count": 148,
   "id": "ca547398",
   "metadata": {},
   "outputs": [],
   "source": [
    "## Logistic regression\n",
    "\n",
    "#lr = LogisticRegression()\n",
    "#lr.fit(train_feature_set,y_train)\n",
    "#y_pred = lr.predict(test_feature_set)\n",
    "\n",
    "#cm = confusion_matrix(y_test,y_pred)\n",
    "#print('Confusion Matrix:\\n', cm)\n",
    "#print(\"Accuracy: \",round(accuracy_score(y_test,y_pred),3))\n",
    "#(\"F1: \",round(f1_score(y_test, y_pred),3))\n",
    "#print(\"Recall: \",round(recall_score(y_test,y_pred),3))\n",
    "#print(\"percision: \",round(precision_score(y_test, y_pred),3))\n",
    "#print(classification_report(y_test, y_pred))"
   ]
  },
  {
   "cell_type": "code",
   "execution_count": 264,
   "id": "adcb57b1",
   "metadata": {},
   "outputs": [
    {
     "name": "stdout",
     "output_type": "stream",
     "text": [
      "Time takes to convert text input into feature vector:  0.13  mins\n"
     ]
    }
   ],
   "source": [
    "# create countvectorizer:\n",
    "start_time = time.time()\n",
    "\n",
    "cv = CountVectorizer(binary = True, stop_words= 'english', ngram_range=(1,2) ,min_df = 5, max_df = 0.95)\n",
    "cv.fit_transform(X_train)\n",
    "train_feature_set = cv.transform(X_train)\n",
    "test_feature_set = cv.transform(X_test)\n",
    "\n",
    "print(\"Time takes to convert text input into feature vector: \", round((time.time() - start_time)/60, 2), \" mins\")"
   ]
  },
  {
   "cell_type": "code",
   "execution_count": 151,
   "id": "b9272d09",
   "metadata": {},
   "outputs": [],
   "source": [
    "def model_predictions(model_name, X_train,y_train,X_test, y_test):\n",
    "    \n",
    "    model = model_name\n",
    "    model.fit(X_train, y_train)\n",
    "    \n",
    "    print(model_name)\n",
    "    acc = cross_val_score(model, X_train, y_train, scoring = \"accuracy\", cv = 5)\n",
    "    predictions = cross_val_predict(model, X_test, y_test, cv = 5)\n",
    "    print(\"Accuracy:\", round(acc.mean(),3))\n",
    "    cm = confusion_matrix(y_test, predictions)\n",
    "    print(\"Confusion Matrix:  \\n\", cm)\n",
    "    print(\"Classification Report \\n\", classification_report( y_test, predictions))"
   ]
  },
  {
   "cell_type": "code",
   "execution_count": 265,
   "id": "b967add1",
   "metadata": {},
   "outputs": [
    {
     "name": "stdout",
     "output_type": "stream",
     "text": [
      "LogisticRegression(class_weight='balanced')\n",
      "Accuracy: 0.875\n",
      "Confusion Matrix:  \n",
      " [[ 869  361]\n",
      " [ 475 5088]]\n",
      "Classification Report \n",
      "               precision    recall  f1-score   support\n",
      "\n",
      "           0       0.65      0.71      0.68      1230\n",
      "           1       0.93      0.91      0.92      5563\n",
      "\n",
      "    accuracy                           0.88      6793\n",
      "   macro avg       0.79      0.81      0.80      6793\n",
      "weighted avg       0.88      0.88      0.88      6793\n",
      "\n"
     ]
    }
   ],
   "source": [
    "lr = LogisticRegression(class_weight= 'balanced')\n",
    "model_predictions(lr,train_feature_set,y_train, test_feature_set, y_test)"
   ]
  },
  {
   "cell_type": "code",
   "execution_count": 274,
   "id": "d5438be4",
   "metadata": {},
   "outputs": [
    {
     "data": {
      "text/plain": [
       "0.9142288276230754"
      ]
     },
     "execution_count": 274,
     "metadata": {},
     "output_type": "execute_result"
    }
   ],
   "source": [
    " average_precision_score(y_test, predictions, average= 'weighted')"
   ]
  },
  {
   "cell_type": "code",
   "execution_count": 271,
   "id": "172dd2b3",
   "metadata": {},
   "outputs": [
    {
     "data": {
      "image/png": "[encoded data removed]",
      "text/plain": [
       "<Figure size 576x396 with 1 Axes>"
      ]
     },
     "metadata": {},
     "output_type": "display_data"
    },
    {
     "data": {
      "text/plain": [
       "<AxesSubplot:title={'center':'Precision-Recall Curve for LogisticRegression'}, xlabel='Recall', ylabel='Precision'>"
      ]
     },
     "execution_count": 271,
     "metadata": {},
     "output_type": "execute_result"
    }
   ],
   "source": [
    "from yellowbrick.classifier import PrecisionRecallCurve\n",
    "\n",
    "viz = PrecisionRecallCurve(\n",
    "    lr,\n",
    "    per_class=True,\n",
    "    \n",
    ")\n",
    "viz.fit(train_feature_set, y_train)\n",
    "viz.score(test_feature_set, y_test)\n",
    "viz.show()"
   ]
  },
  {
   "cell_type": "code",
   "execution_count": 277,
   "id": "890d11ea",
   "metadata": {},
   "outputs": [
    {
     "data": {
      "image/png": "[encoded data removed]",
      "text/plain": [
       "<Figure size 576x396 with 1 Axes>"
      ]
     },
     "metadata": {},
     "output_type": "display_data"
    },
    {
     "data": {
      "text/plain": [
       "<AxesSubplot:title={'center':'ROC Curves for LogisticRegression'}, xlabel='False Positive Rate', ylabel='True Positive Rate'>"
      ]
     },
     "execution_count": 277,
     "metadata": {},
     "output_type": "execute_result"
    }
   ],
   "source": [
    "from yellowbrick.classifier import ROCAUC\n",
    "\n",
    "model = lr\n",
    "viz = ROCAUC(model)\n",
    "\n",
    "viz.fit(train_feature_set, y_train)\n",
    "viz.score(test_feature_set, y_test)\n",
    "viz.show()"
   ]
  },
  {
   "cell_type": "code",
   "execution_count": 248,
   "id": "84974971",
   "metadata": {},
   "outputs": [
    {
     "name": "stdout",
     "output_type": "stream",
     "text": [
      "LogisticRegression()\n",
      "Accuracy: 0.883\n",
      "Confusion Matrix:  \n",
      " [[ 700  530]\n",
      " [ 250 5313]]\n",
      "Classification Report \n",
      "               precision    recall  f1-score   support\n",
      "\n",
      "           0       0.74      0.57      0.64      1230\n",
      "           1       0.91      0.96      0.93      5563\n",
      "\n",
      "    accuracy                           0.89      6793\n",
      "   macro avg       0.82      0.76      0.79      6793\n",
      "weighted avg       0.88      0.89      0.88      6793\n",
      "\n"
     ]
    }
   ],
   "source": [
    "# logistic regresion\n",
    "lr = LogisticRegression()\n",
    "model_predictions(lr,train_feature_set,y_train, test_feature_set, y_test)"
   ]
  },
  {
   "cell_type": "code",
   "execution_count": 238,
   "id": "6c0efe6f",
   "metadata": {},
   "outputs": [
    {
     "name": "stdout",
     "output_type": "stream",
     "text": [
      "\n",
      "******** For i = 0.3 ******\n",
      "F1: 0.932\n",
      "\n",
      "******** For i = 0.4 ******\n",
      "F1: 0.933\n",
      "\n",
      "******** For i = 0.45 ******\n",
      "F1: 0.933\n",
      "\n",
      "******** For i = 0.5 ******\n",
      "F1: 0.934\n",
      "\n",
      "******** For i = 0.51 ******\n",
      "F1: 0.933\n",
      "\n",
      "******** For i = 0.6 ******\n",
      "F1: 0.933\n"
     ]
    }
   ],
   "source": [
    "pred_proba_df = pd.DataFrame(lr.predict_proba(test_feature_set))\n",
    "threshold_list = [0.3,0.4,0.45,0.5, 0.51, 0.6]\n",
    "for i in threshold_list:\n",
    "    print ('\\n******** For i = {} ******'.format(i))\n",
    "    y_test_pred = pred_proba_df.applymap(lambda x: 1 if x>i else 0)\n",
    "    test_f1 = round(f1_score(y_test, y_test_pred.loc[:,1].values),3)\n",
    "    print('F1: {}'.format(test_f1))"
   ]
  },
  {
   "cell_type": "code",
   "execution_count": 159,
   "id": "2c66a0f3",
   "metadata": {},
   "outputs": [
    {
     "data": {
      "image/png": "[encoded data removed]",
      "text/plain": [
       "<Figure size 576x396 with 2 Axes>"
      ]
     },
     "metadata": {},
     "output_type": "display_data"
    },
    {
     "data": {
      "text/plain": [
       "<AxesSubplot:title={'center':'LogisticRegression Classification Report'}>"
      ]
     },
     "execution_count": 159,
     "metadata": {},
     "output_type": "execute_result"
    }
   ],
   "source": [
    "from yellowbrick.classifier import ClassificationReport\n",
    "\n",
    "visualizer = ClassificationReport(lr, classes=['Not Recommended', 'Recommended'], support=True, )\n",
    "\n",
    "visualizer.fit(train_feature_set, y_train)  # Fit the visualizer and the model\n",
    "visualizer.score(test_feature_set, y_test)# Evaluate the model on the test data\n",
    "for label in visualizer.ax.texts:\n",
    "    label.set_size(13)\n",
    "plt.savefig('images/bestmodel.png', dpi=300)\n",
    "visualizer.show()             # Draw/show the data"
   ]
  },
  {
   "cell_type": "code",
   "execution_count": 131,
   "id": "ad6930be",
   "metadata": {},
   "outputs": [
    {
     "name": "stdout",
     "output_type": "stream",
     "text": [
      "['unique', 'elegant', 'dressed', 'darling', 'would recommend', 'not bad', 'worried', 'love', 'love top', 'compliments']\n"
     ]
    }
   ],
   "source": [
    "feature_importance = lr.coef_[0]\n",
    "sorted_idx = np.argsort(feature_importance)\n",
    "top_10_pos_w = [list(cv.vocabulary_.keys())[list(cv.vocabulary_.values()).index(w)] for w in sorted_idx[range(-1,-11, -1)]]\n",
    "print(top_10_pos_w)"
   ]
  },
  {
   "cell_type": "code",
   "execution_count": 231,
   "id": "a8698ad5",
   "metadata": {},
   "outputs": [
    {
     "data": {
      "image/png": "[encoded data removed]",
      "text/plain": [
       "<Figure size 720x432 with 1 Axes>"
      ]
     },
     "metadata": {},
     "output_type": "display_data"
    }
   ],
   "source": [
    "sns.set_palette(\"Set2\", 9)\n",
    "fig = plt.figure(figsize=(10, 6))\n",
    "ax = sns.barplot(top_10_pos_w, feature_importance[sorted_idx[range(-1,-11, -1)]], color= 'gold', alpha = 1, edgecolor=sns.color_palette(\"dark\", 1))\n",
    "plt.title(\"Most Important Words Used for Positive Sentiment\",fontsize = 18)\n",
    "x_locs,x_labels = plt.xticks()\n",
    "plt.xticks(fontsize=13)\n",
    "plt.setp(x_labels, rotation = 40)\n",
    "plt.ylabel('Feature Importance', fontsize = 15)\n",
    "plt.xlabel('Word', fontsize = 15)\n",
    "plt.tight_layout()\n",
    "plt.savefig('images/mostposwords');"
   ]
  },
  {
   "cell_type": "code",
   "execution_count": 133,
   "id": "494a9b5f",
   "metadata": {},
   "outputs": [
    {
     "name": "stdout",
     "output_type": "stream",
     "text": [
      "['wanted love', 'not flattering', 'disappointed', 'cheap', 'shame', 'not recommend', 'weirdly', 'going back', 'returned', 'not worth']\n"
     ]
    }
   ],
   "source": [
    "top_10_neg_w = [list(cv.vocabulary_.keys())[list(cv.vocabulary_.values()).index(w)] for w in sorted_idx[:10]]\n",
    "print(top_10_neg_w)"
   ]
  },
  {
   "cell_type": "code",
   "execution_count": 232,
   "id": "ffe6cc92",
   "metadata": {},
   "outputs": [
    {
     "data": {
      "image/png": "[encoded data removed]",
      "text/plain": [
       "<Figure size 720x432 with 1 Axes>"
      ]
     },
     "metadata": {},
     "output_type": "display_data"
    }
   ],
   "source": [
    "fig = plt.figure(figsize=(10, 6))\n",
    "ax = sns.barplot(top_10_neg_w, feature_importance[sorted_idx[:10]], color= 'tab:blue', alpha = 1, edgecolor=sns.color_palette(\"dark\", 1))\n",
    "plt.title(\"Most Important Words Used for Negative Sentiment\",fontsize = 18)\n",
    "x_locs,x_labels = plt.xticks()\n",
    "plt.xticks(fontsize=13)\n",
    "plt.setp(x_labels, rotation = 40)\n",
    "plt.ylabel('Feature Importance', fontsize = 15)\n",
    "plt.xlabel('Word', fontsize = 15)\n",
    "plt.tight_layout()\n",
    "plt.savefig('images/mostnegwords')"
   ]
  },
  {
   "cell_type": "code",
   "execution_count": null,
   "id": "d566ce1d",
   "metadata": {},
   "outputs": [],
   "source": [
    "from yellowbrick.classifier import A"
   ]
  },
  {
   "cell_type": "markdown",
   "id": "680f80db",
   "metadata": {},
   "source": [
    "## Building Pipeline"
   ]
  },
  {
   "cell_type": "code",
   "execution_count": 261,
   "id": "d4a6ccb4",
   "metadata": {},
   "outputs": [
    {
     "name": "stdout",
     "output_type": "stream",
     "text": [
      "Accuracy: 0.8888561754747534\n",
      "F1: 0.933144425750465\n"
     ]
    }
   ],
   "source": [
    "pipe_logistic = Pipeline([\n",
    "    (\"vectorizer\", CountVectorizer()), \n",
    "    (\"classifier\", LogisticRegression()) #alpha=1 is the default\n",
    "])\n",
    "pipe_logistic.fit(X_train, y_train)\n",
    "predictions = pipe_logistic.predict(X_test)\n",
    "print('Accuracy:', accuracy_score(y_test, predictions))\n",
    "print('F1:', f1_score(y_test, predictions))"
   ]
  },
  {
   "cell_type": "code",
   "execution_count": 262,
   "id": "3c84ea51",
   "metadata": {},
   "outputs": [
    {
     "data": {
      "text/plain": [
       "['sentiment.joblib']"
      ]
     },
     "execution_count": 262,
     "metadata": {},
     "output_type": "execute_result"
    }
   ],
   "source": [
    "dump(pipe_logistic, 'sentiment.joblib')"
   ]
  },
  {
   "cell_type": "code",
   "execution_count": 263,
   "id": "4ab59d13",
   "metadata": {},
   "outputs": [
    {
     "name": "stdout",
     "output_type": "stream",
     "text": [
      "Accuracy: 0.8888561754747534\n",
      "F1: 0.933144425750465\n"
     ]
    }
   ],
   "source": [
    "loaded_model = load('sentiment.joblib')\n",
    "predictions = loaded_model.predict(X_test)\n",
    "print('Accuracy:', accuracy_score(y_test, predictions))\n",
    "print('F1:', f1_score(y_test, predictions))"
   ]
  },
  {
   "cell_type": "markdown",
   "id": "87920f88",
   "metadata": {},
   "source": [
    "## Test"
   ]
  },
  {
   "cell_type": "code",
   "execution_count": 186,
   "id": "30c1ea23",
   "metadata": {},
   "outputs": [
    {
     "data": {
      "text/plain": [
       "array([[0.72092959, 0.27907041]])"
      ]
     },
     "execution_count": 186,
     "metadata": {},
     "output_type": "execute_result"
    }
   ],
   "source": [
    "test_review = cv.transform([\"I love the design and pattern of this top. \\\n",
    "it runs big so an xs was roomy on me but still cute. the neck is wide. \\\n",
    "i returned it bc the material of the top isn't for me. the texture is too soft.\" ])\n",
    "lr.predict_proba(test_review)"
   ]
  },
  {
   "cell_type": "code",
   "execution_count": 190,
   "id": "970a2cc7",
   "metadata": {},
   "outputs": [
    {
     "name": "stdout",
     "output_type": "stream",
     "text": [
      "Time takes to convert text input into feature vector:  0.05  mins\n"
     ]
    }
   ],
   "source": [
    "# create countvectorizer:\n",
    "start_time = time.time()\n",
    "\n",
    "cv = CountVectorizer(binary = True, stop_words= sw,  min_df = 5, max_df = 0.95, ngram_range=(1,2))\n",
    "cv.fit_transform(X_train)\n",
    "train_feature_set = cv.transform(X_train)\n",
    "test_feature_set = cv.transform(X_test)\n",
    "\n",
    "print(\"Time takes to convert text input into feature vector: \", round((time.time() - start_time)/60, 2), \" mins\")"
   ]
  },
  {
   "cell_type": "code",
   "execution_count": 197,
   "id": "0d37add1",
   "metadata": {},
   "outputs": [],
   "source": [
    "text= \"I love the design and pattern of this top. it runs big so an xs was roomy on me but still cute. the neck is wide. i returned it bc the material of the top is not for me. the texture is too soft.\" "
   ]
  },
  {
   "cell_type": "code",
   "execution_count": 193,
   "id": "871c031b",
   "metadata": {},
   "outputs": [
    {
     "name": "stdout",
     "output_type": "stream",
     "text": [
      "LogisticRegression()\n",
      "Accuracy: 0.891\n",
      "Confusion Matrix:  \n",
      " [[ 705  525]\n",
      " [ 257 5306]]\n",
      "Classification Report \n",
      "               precision    recall  f1-score   support\n",
      "\n",
      "           0       0.73      0.57      0.64      1230\n",
      "           1       0.91      0.95      0.93      5563\n",
      "\n",
      "    accuracy                           0.88      6793\n",
      "   macro avg       0.82      0.76      0.79      6793\n",
      "weighted avg       0.88      0.88      0.88      6793\n",
      "\n"
     ]
    }
   ],
   "source": [
    "lr = LogisticRegression()\n",
    "model_predictions(lr,train_feature_set,y_train, test_feature_set, y_test)"
   ]
  },
  {
   "cell_type": "code",
   "execution_count": 200,
   "id": "e4c0c7f3",
   "metadata": {},
   "outputs": [
    {
     "data": {
      "text/plain": [
       "array([[0.8476485, 0.1523515]])"
      ]
     },
     "execution_count": 200,
     "metadata": {},
     "output_type": "execute_result"
    }
   ],
   "source": [
    "test_review = cv.transform([\"I love the design and pattern of this top. it runs big so an xs was roomy on me but still cute. the neck is wide. i returned it bc the material of the top is not for me. the texture is too soft.\" ])\n",
    "lr.predict_proba(test_review)"
   ]
  },
  {
   "cell_type": "code",
   "execution_count": 217,
   "id": "32ddde1c",
   "metadata": {},
   "outputs": [
    {
     "data": {
      "text/plain": [
       "array([[0.75686084, 0.24313916]])"
      ]
     },
     "execution_count": 217,
     "metadata": {},
     "output_type": "execute_result"
    }
   ],
   "source": [
    "another_text =cv.transform([\"I love the color but I am returning this dress. It runs big and the material is cheap\"])\n",
    "lr.predict_proba(another_text)"
   ]
  },
  {
   "cell_type": "code",
   "execution_count": 211,
   "id": "13933ce3",
   "metadata": {},
   "outputs": [],
   "source": [
    "from textblob import TextBlob"
   ]
  },
  {
   "cell_type": "code",
   "execution_count": 218,
   "id": "cc733bac",
   "metadata": {},
   "outputs": [
    {
     "data": {
      "text/plain": [
       "Sentiment(polarity=0.3, subjectivity=0.4666666666666666)"
      ]
     },
     "execution_count": 218,
     "metadata": {},
     "output_type": "execute_result"
    }
   ],
   "source": [
    "testimonial = TextBlob(\"I love the color but I am returning this dress. It runs big and the material is cheap\")\n",
    "testimonial.sentiment"
   ]
  },
  {
   "cell_type": "code",
   "execution_count": null,
   "id": "64b69f09",
   "metadata": {},
   "outputs": [],
   "source": []
  },
  {
   "cell_type": "markdown",
   "id": "82de1b2f",
   "metadata": {},
   "source": [
    "## Random Forest"
   ]
  },
  {
   "cell_type": "code",
   "execution_count": 107,
   "id": "45c92df5",
   "metadata": {},
   "outputs": [
    {
     "name": "stdout",
     "output_type": "stream",
     "text": [
      "RandomForestClassifier()\n",
      "Accuracy: 0.861\n",
      "Confusion Matrix:  \n",
      " [[ 275  955]\n",
      " [  66 5497]]\n",
      "Classification Report \n",
      "               precision    recall  f1-score   support\n",
      "\n",
      "           0       0.81      0.22      0.35      1230\n",
      "           1       0.85      0.99      0.92      5563\n",
      "\n",
      "    accuracy                           0.85      6793\n",
      "   macro avg       0.83      0.61      0.63      6793\n",
      "weighted avg       0.84      0.85      0.81      6793\n",
      "\n"
     ]
    }
   ],
   "source": [
    "# random forest:\n",
    "rf = RandomForestClassifier()\n",
    "model_predictions(rf,train_feature_set,y_train, test_feature_set, y_test)"
   ]
  },
  {
   "cell_type": "code",
   "execution_count": 108,
   "id": "803fcdd3",
   "metadata": {},
   "outputs": [
    {
     "name": "stdout",
     "output_type": "stream",
     "text": [
      "GaussianNB()\n",
      "Accuracy: 0.801\n",
      "Confusion Matrix:  \n",
      " [[ 265  965]\n",
      " [ 312 5251]]\n",
      "Classification Report \n",
      "               precision    recall  f1-score   support\n",
      "\n",
      "           0       0.46      0.22      0.29      1230\n",
      "           1       0.84      0.94      0.89      5563\n",
      "\n",
      "    accuracy                           0.81      6793\n",
      "   macro avg       0.65      0.58      0.59      6793\n",
      "weighted avg       0.77      0.81      0.78      6793\n",
      "\n"
     ]
    }
   ],
   "source": [
    "# Gaussian Naieve Bayes\n",
    "gnb = GaussianNB()\n",
    "model_predictions(gnb,train_feature_set.toarray(),y_train, test_feature_set.toarray(), y_test)"
   ]
  },
  {
   "cell_type": "code",
   "execution_count": 9,
   "id": "654fbd33",
   "metadata": {},
   "outputs": [
    {
     "name": "stdout",
     "output_type": "stream",
     "text": [
      "[16:44:45] WARNING: /Users/travis/build/dmlc/xgboost/src/learner.cc:1095: Starting in XGBoost 1.3.0, the default evaluation metric used with the objective 'binary:logistic' was changed from 'error' to 'logloss'. Explicitly set eval_metric if you'd like to restore the old behavior.\n",
      "XGBClassifier(base_score=0.5, booster='gbtree', colsample_bylevel=1,\n",
      "              colsample_bynode=1, colsample_bytree=1, gamma=0, gpu_id=-1,\n",
      "              importance_type='gain', interaction_constraints='',\n",
      "              learning_rate=0.300000012, max_delta_step=0, max_depth=6,\n",
      "              min_child_weight=1, missing=nan, monotone_constraints='()',\n",
      "              n_estimators=100, n_jobs=4, num_parallel_tree=1, random_state=0,\n",
      "              reg_alpha=0, reg_lambda=1, scale_pos_weight=1, subsample=1,\n",
      "              tree_method='exact', validate_parameters=1, verbosity=None)\n",
      "[16:56:02] WARNING: /Users/travis/build/dmlc/xgboost/src/learner.cc:1095: Starting in XGBoost 1.3.0, the default evaluation metric used with the objective 'binary:logistic' was changed from 'error' to 'logloss'. Explicitly set eval_metric if you'd like to restore the old behavior.\n",
      "[17:04:23] WARNING: /Users/travis/build/dmlc/xgboost/src/learner.cc:1095: Starting in XGBoost 1.3.0, the default evaluation metric used with the objective 'binary:logistic' was changed from 'error' to 'logloss'. Explicitly set eval_metric if you'd like to restore the old behavior.\n",
      "[17:12:32] WARNING: /Users/travis/build/dmlc/xgboost/src/learner.cc:1095: Starting in XGBoost 1.3.0, the default evaluation metric used with the objective 'binary:logistic' was changed from 'error' to 'logloss'. Explicitly set eval_metric if you'd like to restore the old behavior.\n",
      "[17:22:26] WARNING: /Users/travis/build/dmlc/xgboost/src/learner.cc:1095: Starting in XGBoost 1.3.0, the default evaluation metric used with the objective 'binary:logistic' was changed from 'error' to 'logloss'. Explicitly set eval_metric if you'd like to restore the old behavior.\n",
      "[17:32:24] WARNING: /Users/travis/build/dmlc/xgboost/src/learner.cc:1095: Starting in XGBoost 1.3.0, the default evaluation metric used with the objective 'binary:logistic' was changed from 'error' to 'logloss'. Explicitly set eval_metric if you'd like to restore the old behavior.\n",
      "[17:41:12] WARNING: /Users/travis/build/dmlc/xgboost/src/learner.cc:1095: Starting in XGBoost 1.3.0, the default evaluation metric used with the objective 'binary:logistic' was changed from 'error' to 'logloss'. Explicitly set eval_metric if you'd like to restore the old behavior.\n",
      "[17:44:37] WARNING: /Users/travis/build/dmlc/xgboost/src/learner.cc:1095: Starting in XGBoost 1.3.0, the default evaluation metric used with the objective 'binary:logistic' was changed from 'error' to 'logloss'. Explicitly set eval_metric if you'd like to restore the old behavior.\n",
      "[17:48:10] WARNING: /Users/travis/build/dmlc/xgboost/src/learner.cc:1095: Starting in XGBoost 1.3.0, the default evaluation metric used with the objective 'binary:logistic' was changed from 'error' to 'logloss'. Explicitly set eval_metric if you'd like to restore the old behavior.\n",
      "[17:51:31] WARNING: /Users/travis/build/dmlc/xgboost/src/learner.cc:1095: Starting in XGBoost 1.3.0, the default evaluation metric used with the objective 'binary:logistic' was changed from 'error' to 'logloss'. Explicitly set eval_metric if you'd like to restore the old behavior.\n",
      "[17:55:22] WARNING: /Users/travis/build/dmlc/xgboost/src/learner.cc:1095: Starting in XGBoost 1.3.0, the default evaluation metric used with the objective 'binary:logistic' was changed from 'error' to 'logloss'. Explicitly set eval_metric if you'd like to restore the old behavior.\n",
      "Accuracy: 0.877\n",
      "Confusion Matrix:  \n",
      " [[ 603  627]\n",
      " [ 196 5367]]\n",
      "Classification Report \n",
      "               precision    recall  f1-score   support\n",
      "\n",
      "           0       0.75      0.49      0.59      1230\n",
      "           1       0.90      0.96      0.93      5563\n",
      "\n",
      "    accuracy                           0.88      6793\n",
      "   macro avg       0.83      0.73      0.76      6793\n",
      "weighted avg       0.87      0.88      0.87      6793\n",
      "\n"
     ]
    }
   ],
   "source": [
    "## XG Boost\n",
    "xgb = XGBClassifier()\n",
    "model_predictions(xgb,train_feature_set.toarray(),y_train, test_feature_set.toarray(), y_test)"
   ]
  },
  {
   "cell_type": "markdown",
   "id": "924eb70a",
   "metadata": {},
   "source": [
    "## same with TF_IDF"
   ]
  },
  {
   "cell_type": "code",
   "execution_count": 187,
   "id": "d4d01d2f",
   "metadata": {},
   "outputs": [],
   "source": [
    "punct = set(string.punctuation)\n",
    "\n",
    "ps = PorterStemmer()\n",
    "\n",
    "remove_sw_list=['not', 'no']\n",
    "sw = [i for i in stopwords.words('english') if i not in remove_sw_list]\n",
    "\n",
    "def text_prep_stop_stem(text):\n",
    "    #clean text\n",
    "    text = re.sub(r\"n't\", \" not \", text)\n",
    "    text = re.sub(r\"\\'s\", \" \", text)\n",
    "    text = re.sub(r\"\\'ve\", \" have \", text)\n",
    "    text = re.sub(r\"\\'re\", \" are \", text)\n",
    "    text = re.sub(r\"\\'d\", \" would \", text)\n",
    "    text = re.sub(r\"\\'ll\", \" will \", text)\n",
    "    \n",
    "    #remove non-letters and lower case\n",
    "    text = re.sub('[^a-z\\s]', '', text.lower())\n",
    "    \n",
    "    #remove punctuation        \n",
    "    punc_removed = [char for char in text if char not in punct]\n",
    "    punc_removed = ''.join(punc_removed)\n",
    "    \n",
    "    #stem and remove stop words\n",
    "    return [ps.stem(word) for word in punc_removed.split() if not word in sw]\n",
    "    #return [word for word in punc_removed.split() if not word in sw]"
   ]
  },
  {
   "cell_type": "code",
   "execution_count": 41,
   "id": "a9a99566",
   "metadata": {},
   "outputs": [],
   "source": [
    "clean_X = X.apply(lambda x: text_prep_stop_stem(x))\n",
    "join_clean_X = clean_X.apply(lambda x: ' '.join(x))\n",
    "X_train, X_test, y_train, y_test = train_test_split(join_clean_X , y , stratify =y , test_size = 0.3)"
   ]
  },
  {
   "cell_type": "code",
   "execution_count": 76,
   "id": "e2b67d8c",
   "metadata": {},
   "outputs": [
    {
     "name": "stdout",
     "output_type": "stream",
     "text": [
      "Time takes to convert text input into feature vector:  0.08  mins\n"
     ]
    }
   ],
   "source": [
    "# create tfidf vectorizer:\n",
    "start_time = time.time()\n",
    "\n",
    "tv = TfidfVectorizer(min_df=2, ngram_range=(1,2))\n",
    "tv.fit_transform(X_train)\n",
    "train_feature_set = tv.transform(X_train)\n",
    "test_feature_set = tv.transform(X_test)\n",
    "\n",
    "print(\"Time takes to convert text input into feature vector: \", round((time.time() - start_time)/60, 2), \" mins\")"
   ]
  },
  {
   "cell_type": "code",
   "execution_count": 44,
   "id": "14263ee8",
   "metadata": {},
   "outputs": [
    {
     "data": {
      "text/plain": [
       "(15848, 55182)"
      ]
     },
     "execution_count": 44,
     "metadata": {},
     "output_type": "execute_result"
    }
   ],
   "source": [
    "train_feature_set.shape"
   ]
  },
  {
   "cell_type": "code",
   "execution_count": 69,
   "id": "6f326599",
   "metadata": {},
   "outputs": [
    {
     "name": "stdout",
     "output_type": "stream",
     "text": [
      "LogisticRegression()\n",
      "Accuracy: 0.875\n",
      "Confusion Matrix:  \n",
      " [[ 305  925]\n",
      " [  41 5522]]\n",
      "Classification Report \n",
      "               precision    recall  f1-score   support\n",
      "\n",
      "           0       0.88      0.25      0.39      1230\n",
      "           1       0.86      0.99      0.92      5563\n",
      "\n",
      "    accuracy                           0.86      6793\n",
      "   macro avg       0.87      0.62      0.65      6793\n",
      "weighted avg       0.86      0.86      0.82      6793\n",
      "\n"
     ]
    }
   ],
   "source": [
    "lr = LogisticRegression()\n",
    "model_predictions(lr,train_feature_set,y_train, test_feature_set, y_test)"
   ]
  },
  {
   "cell_type": "code",
   "execution_count": 70,
   "id": "b0902057",
   "metadata": {},
   "outputs": [
    {
     "name": "stdout",
     "output_type": "stream",
     "text": [
      "RandomForestClassifier()\n",
      "Accuracy: 0.842\n",
      "Confusion Matrix:  \n",
      " [[ 140 1090]\n",
      " [  18 5545]]\n",
      "Classification Report \n",
      "               precision    recall  f1-score   support\n",
      "\n",
      "           0       0.89      0.11      0.20      1230\n",
      "           1       0.84      1.00      0.91      5563\n",
      "\n",
      "    accuracy                           0.84      6793\n",
      "   macro avg       0.86      0.56      0.56      6793\n",
      "weighted avg       0.84      0.84      0.78      6793\n",
      "\n"
     ]
    }
   ],
   "source": [
    "rf = RandomForestClassifier()\n",
    "model_predictions(rf,train_feature_set,y_train, test_feature_set, y_test)"
   ]
  },
  {
   "cell_type": "code",
   "execution_count": 48,
   "id": "837dc926",
   "metadata": {},
   "outputs": [
    {
     "name": "stdout",
     "output_type": "stream",
     "text": [
      "Time takes to convert text input into feature vector:  0.06  mins\n"
     ]
    }
   ],
   "source": [
    "# create tfidf vectorizer:\n",
    "start_time = time.time()\n",
    "\n",
    "tv = TfidfVectorizer(stop_words='english', ngram_range=(1,2))\n",
    "tv.fit_transform(X_train)\n",
    "train_feature_set = tv.transform(X_train)\n",
    "test_feature_set = tv.transform(X_test)\n",
    "\n",
    "print(\"Time takes to convert text input into feature vector: \", round((time.time() - start_time)/60, 2), \" mins\")"
   ]
  },
  {
   "cell_type": "code",
   "execution_count": 49,
   "id": "d3c848a8",
   "metadata": {},
   "outputs": [
    {
     "name": "stdout",
     "output_type": "stream",
     "text": [
      "LogisticRegression()\n",
      "Accuracy: 0.854\n",
      "Confusion Matrix:  \n",
      " [[ 205 1025]\n",
      " [  30 5533]]\n",
      "Classification Report \n",
      "               precision    recall  f1-score   support\n",
      "\n",
      "           0       0.87      0.17      0.28      1230\n",
      "           1       0.84      0.99      0.91      5563\n",
      "\n",
      "    accuracy                           0.84      6793\n",
      "   macro avg       0.86      0.58      0.60      6793\n",
      "weighted avg       0.85      0.84      0.80      6793\n",
      "\n"
     ]
    }
   ],
   "source": [
    "lr = LogisticRegression()\n",
    "model_predictions(lr,train_feature_set,y_train, test_feature_set, y_test)"
   ]
  },
  {
   "cell_type": "code",
   "execution_count": 50,
   "id": "a1241c58",
   "metadata": {},
   "outputs": [
    {
     "name": "stdout",
     "output_type": "stream",
     "text": [
      "RandomForestClassifier()\n",
      "Accuracy: 0.839\n",
      "Confusion Matrix:  \n",
      " [[ 115 1115]\n",
      " [   8 5555]]\n",
      "Classification Report \n",
      "               precision    recall  f1-score   support\n",
      "\n",
      "           0       0.93      0.09      0.17      1230\n",
      "           1       0.83      1.00      0.91      5563\n",
      "\n",
      "    accuracy                           0.83      6793\n",
      "   macro avg       0.88      0.55      0.54      6793\n",
      "weighted avg       0.85      0.83      0.77      6793\n",
      "\n"
     ]
    }
   ],
   "source": [
    "rf = RandomForestClassifier()\n",
    "model_predictions(rf,train_feature_set,y_train, test_feature_set, y_test)"
   ]
  },
  {
   "cell_type": "code",
   "execution_count": 56,
   "id": "b839f78f",
   "metadata": {},
   "outputs": [],
   "source": [
    "not_X = X.apply(lambda x: re.sub(r\"n't\", \" not \", x))\n",
    "\n",
    "X_train, X_test, y_train, y_test = train_test_split(not_X , y , stratify =y , test_size = 0.3)"
   ]
  },
  {
   "cell_type": "code",
   "execution_count": 57,
   "id": "b990c38d",
   "metadata": {},
   "outputs": [
    {
     "data": {
      "text/plain": [
       "\"I ordered this in carbon for store pick up, and had a ton of stuff (as always) to try on and used this top to pair (skirts and pants). everything went with it. the color is really nice charcoal with shimmer, and went well with pencil skirts, flare pants, etc. my only compaint is it is a bit big, sleeves are long and it doesn't go in petite. also a bit loose for me, but no xxs... so i kept it and wil ldecide later since the light color is already sold out in hte smallest size...\""
      ]
     },
     "execution_count": 57,
     "metadata": {},
     "output_type": "execute_result"
    }
   ],
   "source": [
    "X[7]"
   ]
  },
  {
   "cell_type": "code",
   "execution_count": 58,
   "id": "49962807",
   "metadata": {},
   "outputs": [
    {
     "data": {
      "text/plain": [
       "'I ordered this in carbon for store pick up, and had a ton of stuff (as always) to try on and used this top to pair (skirts and pants). everything went with it. the color is really nice charcoal with shimmer, and went well with pencil skirts, flare pants, etc. my only compaint is it is a bit big, sleeves are long and it does not  go in petite. also a bit loose for me, but no xxs... so i kept it and wil ldecide later since the light color is already sold out in hte smallest size...'"
      ]
     },
     "execution_count": 58,
     "metadata": {},
     "output_type": "execute_result"
    }
   ],
   "source": [
    "not_X[7]"
   ]
  },
  {
   "cell_type": "code",
   "execution_count": 227,
   "id": "f84c89e1",
   "metadata": {},
   "outputs": [
    {
     "name": "stdout",
     "output_type": "stream",
     "text": [
      "Time takes to convert text input into feature vector:  0.06  mins\n"
     ]
    }
   ],
   "source": [
    "# create tfidf vectorizer:\n",
    "start_time = time.time()\n",
    "\n",
    "tv = TfidfVectorizer(stop_words=sw, ngram_range=(1,2), max_features=5000)\n",
    "tv.fit_transform(X_train)\n",
    "train_feature_set = tv.transform(X_train)\n",
    "test_feature_set = tv.transform(X_test)\n",
    "\n",
    "print(\"Time takes to convert text input into feature vector: \", round((time.time() - start_time)/60, 2), \" mins\")"
   ]
  },
  {
   "cell_type": "code",
   "execution_count": 62,
   "id": "eea94bde",
   "metadata": {},
   "outputs": [
    {
     "data": {
      "text/plain": [
       "(15848, 10000)"
      ]
     },
     "execution_count": 62,
     "metadata": {},
     "output_type": "execute_result"
    }
   ],
   "source": [
    "train_feature_set.shape"
   ]
  },
  {
   "cell_type": "code",
   "execution_count": 162,
   "id": "4b1d48e4",
   "metadata": {},
   "outputs": [
    {
     "name": "stdout",
     "output_type": "stream",
     "text": [
      "LogisticRegression()\n",
      "Accuracy: 0.887\n",
      "Confusion Matrix:  \n",
      " [[ 451  779]\n",
      " [  71 5492]]\n",
      "Classification Report \n",
      "               precision    recall  f1-score   support\n",
      "\n",
      "           0       0.86      0.37      0.51      1230\n",
      "           1       0.88      0.99      0.93      5563\n",
      "\n",
      "    accuracy                           0.87      6793\n",
      "   macro avg       0.87      0.68      0.72      6793\n",
      "weighted avg       0.87      0.87      0.85      6793\n",
      "\n"
     ]
    }
   ],
   "source": [
    "lr = LogisticRegression()\n",
    "model_predictions(lr,train_feature_set,y_train, test_feature_set, y_test)"
   ]
  },
  {
   "cell_type": "code",
   "execution_count": 182,
   "id": "adc20ab8",
   "metadata": {},
   "outputs": [
    {
     "name": "stdout",
     "output_type": "stream",
     "text": [
      "[10:13:00] WARNING: /Users/travis/build/dmlc/xgboost/src/learner.cc:1095: Starting in XGBoost 1.3.0, the default evaluation metric used with the objective 'binary:logistic' was changed from 'error' to 'logloss'. Explicitly set eval_metric if you'd like to restore the old behavior.\n",
      "XGBClassifier(base_score=0.5, booster='gbtree', colsample_bylevel=1,\n",
      "              colsample_bynode=1, colsample_bytree=1, gamma=0, gpu_id=-1,\n",
      "              importance_type='gain', interaction_constraints='',\n",
      "              learning_rate=0.300000012, max_delta_step=0, max_depth=6,\n",
      "              min_child_weight=1, missing=nan, monotone_constraints='()',\n",
      "              n_estimators=100, n_jobs=4, num_parallel_tree=1, random_state=0,\n",
      "              reg_alpha=0, reg_lambda=1, scale_pos_weight=1, subsample=1,\n",
      "              tree_method='exact', validate_parameters=1, verbosity=None)\n",
      "[10:16:18] WARNING: /Users/travis/build/dmlc/xgboost/src/learner.cc:1095: Starting in XGBoost 1.3.0, the default evaluation metric used with the objective 'binary:logistic' was changed from 'error' to 'logloss'. Explicitly set eval_metric if you'd like to restore the old behavior.\n",
      "[10:18:49] WARNING: /Users/travis/build/dmlc/xgboost/src/learner.cc:1095: Starting in XGBoost 1.3.0, the default evaluation metric used with the objective 'binary:logistic' was changed from 'error' to 'logloss'. Explicitly set eval_metric if you'd like to restore the old behavior.\n",
      "[10:21:23] WARNING: /Users/travis/build/dmlc/xgboost/src/learner.cc:1095: Starting in XGBoost 1.3.0, the default evaluation metric used with the objective 'binary:logistic' was changed from 'error' to 'logloss'. Explicitly set eval_metric if you'd like to restore the old behavior.\n",
      "[10:23:56] WARNING: /Users/travis/build/dmlc/xgboost/src/learner.cc:1095: Starting in XGBoost 1.3.0, the default evaluation metric used with the objective 'binary:logistic' was changed from 'error' to 'logloss'. Explicitly set eval_metric if you'd like to restore the old behavior.\n",
      "[10:26:27] WARNING: /Users/travis/build/dmlc/xgboost/src/learner.cc:1095: Starting in XGBoost 1.3.0, the default evaluation metric used with the objective 'binary:logistic' was changed from 'error' to 'logloss'. Explicitly set eval_metric if you'd like to restore the old behavior.\n",
      "[10:28:54] WARNING: /Users/travis/build/dmlc/xgboost/src/learner.cc:1095: Starting in XGBoost 1.3.0, the default evaluation metric used with the objective 'binary:logistic' was changed from 'error' to 'logloss'. Explicitly set eval_metric if you'd like to restore the old behavior.\n",
      "[10:29:57] WARNING: /Users/travis/build/dmlc/xgboost/src/learner.cc:1095: Starting in XGBoost 1.3.0, the default evaluation metric used with the objective 'binary:logistic' was changed from 'error' to 'logloss'. Explicitly set eval_metric if you'd like to restore the old behavior.\n",
      "[10:31:03] WARNING: /Users/travis/build/dmlc/xgboost/src/learner.cc:1095: Starting in XGBoost 1.3.0, the default evaluation metric used with the objective 'binary:logistic' was changed from 'error' to 'logloss'. Explicitly set eval_metric if you'd like to restore the old behavior.\n",
      "[10:32:08] WARNING: /Users/travis/build/dmlc/xgboost/src/learner.cc:1095: Starting in XGBoost 1.3.0, the default evaluation metric used with the objective 'binary:logistic' was changed from 'error' to 'logloss'. Explicitly set eval_metric if you'd like to restore the old behavior.\n",
      "[10:33:12] WARNING: /Users/travis/build/dmlc/xgboost/src/learner.cc:1095: Starting in XGBoost 1.3.0, the default evaluation metric used with the objective 'binary:logistic' was changed from 'error' to 'logloss'. Explicitly set eval_metric if you'd like to restore the old behavior.\n",
      "Accuracy: 0.88\n",
      "Confusion Matrix:  \n",
      " [[ 634  596]\n",
      " [ 162 5401]]\n",
      "Classification Report \n",
      "               precision    recall  f1-score   support\n",
      "\n",
      "           0       0.80      0.52      0.63      1230\n",
      "           1       0.90      0.97      0.93      5563\n",
      "\n",
      "    accuracy                           0.89      6793\n",
      "   macro avg       0.85      0.74      0.78      6793\n",
      "weighted avg       0.88      0.89      0.88      6793\n",
      "\n"
     ]
    }
   ],
   "source": [
    "## XG Boost\n",
    "xgb = XGBClassifier()\n",
    "model_predictions(xgb,train_feature_set.toarray(),y_train, test_feature_set.toarray(), y_test)"
   ]
  },
  {
   "cell_type": "code",
   "execution_count": 228,
   "id": "01caa050",
   "metadata": {},
   "outputs": [
    {
     "data": {
      "image/png": "[encoded data removed]",
      "text/plain": [
       "<Figure size 576x396 with 2 Axes>"
      ]
     },
     "metadata": {},
     "output_type": "display_data"
    },
    {
     "data": {
      "text/plain": [
       "<AxesSubplot:title={'center':'XGBClassifier Classification Report'}>"
      ]
     },
     "execution_count": 228,
     "metadata": {},
     "output_type": "execute_result"
    }
   ],
   "source": [
    "visualizer = ClassificationReport(xgb, classes=['Not Recommended', 'Recommended'], support=True, )\n",
    "\n",
    "visualizer.fit(train_feature_set.toarray(), y_train)  # Fit the visualizer and the model\n",
    "visualizer.score(test_feature_set.toarray(), y_test)# Evaluate the model on the test data\n",
    "for label in visualizer.ax.texts:\n",
    "    label.set_size(13)\n",
    "plt.savefig('images/bestxgb.png', dpi=300)\n",
    "visualizer.show()  "
   ]
  },
  {
   "cell_type": "code",
   "execution_count": 163,
   "id": "227c37c9",
   "metadata": {},
   "outputs": [
    {
     "name": "stdout",
     "output_type": "stream",
     "text": [
      "GaussianNB()\n",
      "Accuracy: 0.644\n",
      "Confusion Matrix:  \n",
      " [[ 549  681]\n",
      " [ 831 4732]]\n",
      "Classification Report \n",
      "               precision    recall  f1-score   support\n",
      "\n",
      "           0       0.40      0.45      0.42      1230\n",
      "           1       0.87      0.85      0.86      5563\n",
      "\n",
      "    accuracy                           0.78      6793\n",
      "   macro avg       0.64      0.65      0.64      6793\n",
      "weighted avg       0.79      0.78      0.78      6793\n",
      "\n"
     ]
    }
   ],
   "source": [
    "# Naive Bayes\n",
    "gnb = GaussianNB()\n",
    "model_predictions(gnb,train_feature_set.toarray(),y_train, test_feature_set.toarray(), y_test)"
   ]
  },
  {
   "cell_type": "markdown",
   "id": "5c94ba31",
   "metadata": {},
   "source": [
    "# Smote"
   ]
  },
  {
   "cell_type": "code",
   "execution_count": 77,
   "id": "47d8457f",
   "metadata": {},
   "outputs": [],
   "source": [
    "tv = TfidfVectorizer(stop_words=sw, ngram_range=(1,2), max_features=10000)\n",
    "tv.fit_transform(X_train)\n",
    "train_feature_set = tv.transform(X_train)\n",
    "test_feature_set = tv.transform(X_test)"
   ]
  },
  {
   "cell_type": "code",
   "execution_count": 78,
   "id": "eaae6402",
   "metadata": {},
   "outputs": [],
   "source": [
    "\n",
    "smote=SMOTE()\n",
    "\n",
    "X_train_sm, y_train_sm = smote.fit_resample(train_feature_set,y_train)\n",
    "#X_test_sm, y_test_sm = smote.fit_resample(test_feature_set,y_test)"
   ]
  },
  {
   "cell_type": "code",
   "execution_count": 83,
   "id": "8ad0b848",
   "metadata": {},
   "outputs": [
    {
     "name": "stdout",
     "output_type": "stream",
     "text": [
      "LogisticRegression()\n",
      "Accuracy: 0.929\n",
      "Confusion Matrix:  \n",
      " [[ 408  822]\n",
      " [  61 5502]]\n",
      "Classification Report \n",
      "               precision    recall  f1-score   support\n",
      "\n",
      "           0       0.87      0.33      0.48      1230\n",
      "           1       0.87      0.99      0.93      5563\n",
      "\n",
      "    accuracy                           0.87      6793\n",
      "   macro avg       0.87      0.66      0.70      6793\n",
      "weighted avg       0.87      0.87      0.85      6793\n",
      "\n"
     ]
    }
   ],
   "source": [
    "lr = LogisticRegression()\n",
    "model_predictions(lr,X_train_sm,y_train_sm, test_feature_set, y_test)"
   ]
  },
  {
   "cell_type": "code",
   "execution_count": 85,
   "id": "19fa8195",
   "metadata": {},
   "outputs": [
    {
     "name": "stdout",
     "output_type": "stream",
     "text": [
      "RandomForestClassifier()\n",
      "Accuracy: 0.945\n",
      "Confusion Matrix:  \n",
      " [[ 329  901]\n",
      " [  52 5511]]\n",
      "Classification Report \n",
      "               precision    recall  f1-score   support\n",
      "\n",
      "           0       0.86      0.27      0.41      1230\n",
      "           1       0.86      0.99      0.92      5563\n",
      "\n",
      "    accuracy                           0.86      6793\n",
      "   macro avg       0.86      0.63      0.66      6793\n",
      "weighted avg       0.86      0.86      0.83      6793\n",
      "\n"
     ]
    }
   ],
   "source": [
    "rf = RandomForestClassifier()\n",
    "model_predictions(rf,X_train_sm,y_train_sm,test_feature_set, y_test)"
   ]
  },
  {
   "cell_type": "code",
   "execution_count": 108,
   "id": "6f263ce1",
   "metadata": {},
   "outputs": [
    {
     "name": "stdout",
     "output_type": "stream",
     "text": [
      "RandomForestClassifier(n_estimators=20)\n",
      "Accuracy: 0.929\n",
      "Confusion Matrix:  \n",
      " [[ 377  853]\n",
      " [  81 5482]]\n",
      "Classification Report \n",
      "               precision    recall  f1-score   support\n",
      "\n",
      "           0       0.82      0.31      0.45      1230\n",
      "           1       0.87      0.99      0.92      5563\n",
      "\n",
      "    accuracy                           0.86      6793\n",
      "   macro avg       0.84      0.65      0.68      6793\n",
      "weighted avg       0.86      0.86      0.84      6793\n",
      "\n"
     ]
    }
   ],
   "source": [
    "rf = RandomForestClassifier(n_estimators=20)\n",
    "model_predictions(rf,X_train_sm,y_train_sm,test_feature_set, y_test)"
   ]
  },
  {
   "cell_type": "code",
   "execution_count": 146,
   "id": "8358c167",
   "metadata": {},
   "outputs": [
    {
     "data": {
      "text/plain": [
       "scipy.sparse.csr.csr_matrix"
      ]
     },
     "execution_count": 146,
     "metadata": {},
     "output_type": "execute_result"
    }
   ],
   "source": [
    "type(train_feature_set)"
   ]
  },
  {
   "cell_type": "code",
   "execution_count": 147,
   "id": "f0ba72f6",
   "metadata": {},
   "outputs": [
    {
     "ename": "KeyboardInterrupt",
     "evalue": "",
     "output_type": "error",
     "traceback": [
      "\u001b[0;31m---------------------------------------------------------------------------\u001b[0m",
      "\u001b[0;31mKeyboardInterrupt\u001b[0m                         Traceback (most recent call last)",
      "\u001b[0;32m<ipython-input-147-2d279685fe8e>\u001b[0m in \u001b[0;36m<module>\u001b[0;34m\u001b[0m\n\u001b[1;32m      1\u001b[0m \u001b[0msmoten\u001b[0m\u001b[0;34m=\u001b[0m\u001b[0mSMOTEN\u001b[0m\u001b[0;34m(\u001b[0m\u001b[0;34m)\u001b[0m\u001b[0;34m\u001b[0m\u001b[0;34m\u001b[0m\u001b[0m\n\u001b[1;32m      2\u001b[0m \u001b[0;34m\u001b[0m\u001b[0m\n\u001b[0;32m----> 3\u001b[0;31m \u001b[0mX_train_sm\u001b[0m\u001b[0;34m,\u001b[0m \u001b[0my_train_sm\u001b[0m \u001b[0;34m=\u001b[0m \u001b[0msmoten\u001b[0m\u001b[0;34m.\u001b[0m\u001b[0mfit_resample\u001b[0m\u001b[0;34m(\u001b[0m\u001b[0mtrain_feature_set\u001b[0m\u001b[0;34m.\u001b[0m\u001b[0mtoarray\u001b[0m\u001b[0;34m(\u001b[0m\u001b[0;34m)\u001b[0m\u001b[0;34m,\u001b[0m\u001b[0my_train\u001b[0m\u001b[0;34m)\u001b[0m\u001b[0;34m\u001b[0m\u001b[0;34m\u001b[0m\u001b[0m\n\u001b[0m\u001b[1;32m      4\u001b[0m \u001b[0;31m#X_test_sm, y_test_sm = smote.fit_resample(test_feature_set,y_test)\u001b[0m\u001b[0;34m\u001b[0m\u001b[0;34m\u001b[0m\u001b[0;34m\u001b[0m\u001b[0m\n",
      "\u001b[0;32m~/opt/anaconda3/lib/python3.8/site-packages/imblearn/base.py\u001b[0m in \u001b[0;36mfit_resample\u001b[0;34m(self, X, y)\u001b[0m\n\u001b[1;32m     81\u001b[0m         )\n\u001b[1;32m     82\u001b[0m \u001b[0;34m\u001b[0m\u001b[0m\n\u001b[0;32m---> 83\u001b[0;31m         \u001b[0moutput\u001b[0m \u001b[0;34m=\u001b[0m \u001b[0mself\u001b[0m\u001b[0;34m.\u001b[0m\u001b[0m_fit_resample\u001b[0m\u001b[0;34m(\u001b[0m\u001b[0mX\u001b[0m\u001b[0;34m,\u001b[0m \u001b[0my\u001b[0m\u001b[0;34m)\u001b[0m\u001b[0;34m\u001b[0m\u001b[0;34m\u001b[0m\u001b[0m\n\u001b[0m\u001b[1;32m     84\u001b[0m \u001b[0;34m\u001b[0m\u001b[0m\n\u001b[1;32m     85\u001b[0m         \u001b[0my_\u001b[0m \u001b[0;34m=\u001b[0m \u001b[0mlabel_binarize\u001b[0m\u001b[0;34m(\u001b[0m\u001b[0moutput\u001b[0m\u001b[0;34m[\u001b[0m\u001b[0;36m1\u001b[0m\u001b[0;34m]\u001b[0m\u001b[0;34m,\u001b[0m \u001b[0mnp\u001b[0m\u001b[0;34m.\u001b[0m\u001b[0munique\u001b[0m\u001b[0;34m(\u001b[0m\u001b[0my\u001b[0m\u001b[0;34m)\u001b[0m\u001b[0;34m)\u001b[0m \u001b[0;32mif\u001b[0m \u001b[0mbinarize_y\u001b[0m \u001b[0;32melse\u001b[0m \u001b[0moutput\u001b[0m\u001b[0;34m[\u001b[0m\u001b[0;36m1\u001b[0m\u001b[0;34m]\u001b[0m\u001b[0;34m\u001b[0m\u001b[0;34m\u001b[0m\u001b[0m\n",
      "\u001b[0;32m~/opt/anaconda3/lib/python3.8/site-packages/imblearn/over_sampling/_smote/base.py\u001b[0m in \u001b[0;36m_fit_resample\u001b[0;34m(self, X, y)\u001b[0m\n\u001b[1;32m    723\u001b[0m             \u001b[0mX_class\u001b[0m \u001b[0;34m=\u001b[0m \u001b[0m_safe_indexing\u001b[0m\u001b[0;34m(\u001b[0m\u001b[0mX_encoded\u001b[0m\u001b[0;34m,\u001b[0m \u001b[0mtarget_class_indices\u001b[0m\u001b[0;34m)\u001b[0m\u001b[0;34m\u001b[0m\u001b[0;34m\u001b[0m\u001b[0m\n\u001b[1;32m    724\u001b[0m \u001b[0;34m\u001b[0m\u001b[0m\n\u001b[0;32m--> 725\u001b[0;31m             \u001b[0mX_class_dist\u001b[0m \u001b[0;34m=\u001b[0m \u001b[0mvdm\u001b[0m\u001b[0;34m.\u001b[0m\u001b[0mpairwise\u001b[0m\u001b[0;34m(\u001b[0m\u001b[0mX_class\u001b[0m\u001b[0;34m)\u001b[0m\u001b[0;34m\u001b[0m\u001b[0;34m\u001b[0m\u001b[0m\n\u001b[0m\u001b[1;32m    726\u001b[0m             \u001b[0mself\u001b[0m\u001b[0;34m.\u001b[0m\u001b[0mnn_k_\u001b[0m\u001b[0;34m.\u001b[0m\u001b[0mfit\u001b[0m\u001b[0;34m(\u001b[0m\u001b[0mX_class_dist\u001b[0m\u001b[0;34m)\u001b[0m\u001b[0;34m\u001b[0m\u001b[0;34m\u001b[0m\u001b[0m\n\u001b[1;32m    727\u001b[0m             \u001b[0;31m# the kneigbors search will include the sample itself which is\u001b[0m\u001b[0;34m\u001b[0m\u001b[0;34m\u001b[0m\u001b[0;34m\u001b[0m\u001b[0m\n",
      "\u001b[0;32m~/opt/anaconda3/lib/python3.8/site-packages/imblearn/metrics/pairwise.py\u001b[0m in \u001b[0;36mpairwise\u001b[0;34m(self, X, Y)\u001b[0m\n\u001b[1;32m    198\u001b[0m                 \u001b[0mproba_feature_Y\u001b[0m \u001b[0;34m=\u001b[0m \u001b[0mproba_feature_X\u001b[0m\u001b[0;34m\u001b[0m\u001b[0;34m\u001b[0m\u001b[0m\n\u001b[1;32m    199\u001b[0m             distance += (\n\u001b[0;32m--> 200\u001b[0;31m                 \u001b[0mdistance_matrix\u001b[0m\u001b[0;34m(\u001b[0m\u001b[0mproba_feature_X\u001b[0m\u001b[0;34m,\u001b[0m \u001b[0mproba_feature_Y\u001b[0m\u001b[0;34m,\u001b[0m \u001b[0mp\u001b[0m\u001b[0;34m=\u001b[0m\u001b[0mself\u001b[0m\u001b[0;34m.\u001b[0m\u001b[0mk\u001b[0m\u001b[0;34m)\u001b[0m \u001b[0;34m**\u001b[0m \u001b[0mself\u001b[0m\u001b[0;34m.\u001b[0m\u001b[0mr\u001b[0m\u001b[0;34m\u001b[0m\u001b[0;34m\u001b[0m\u001b[0m\n\u001b[0m\u001b[1;32m    201\u001b[0m             )\n\u001b[1;32m    202\u001b[0m         \u001b[0;32mreturn\u001b[0m \u001b[0mdistance\u001b[0m\u001b[0;34m\u001b[0m\u001b[0;34m\u001b[0m\u001b[0m\n",
      "\u001b[0;32m~/opt/anaconda3/lib/python3.8/site-packages/scipy/spatial/kdtree.py\u001b[0m in \u001b[0;36mdistance_matrix\u001b[0;34m(x, y, p, threshold)\u001b[0m\n\u001b[1;32m    914\u001b[0m         \u001b[0;32melse\u001b[0m\u001b[0;34m:\u001b[0m\u001b[0;34m\u001b[0m\u001b[0;34m\u001b[0m\u001b[0m\n\u001b[1;32m    915\u001b[0m             \u001b[0;32mfor\u001b[0m \u001b[0mj\u001b[0m \u001b[0;32min\u001b[0m \u001b[0mrange\u001b[0m\u001b[0;34m(\u001b[0m\u001b[0mn\u001b[0m\u001b[0;34m)\u001b[0m\u001b[0;34m:\u001b[0m\u001b[0;34m\u001b[0m\u001b[0;34m\u001b[0m\u001b[0m\n\u001b[0;32m--> 916\u001b[0;31m                 \u001b[0mresult\u001b[0m\u001b[0;34m[\u001b[0m\u001b[0;34m:\u001b[0m\u001b[0;34m,\u001b[0m\u001b[0mj\u001b[0m\u001b[0;34m]\u001b[0m \u001b[0;34m=\u001b[0m \u001b[0mminkowski_distance\u001b[0m\u001b[0;34m(\u001b[0m\u001b[0mx\u001b[0m\u001b[0;34m,\u001b[0m\u001b[0my\u001b[0m\u001b[0;34m[\u001b[0m\u001b[0mj\u001b[0m\u001b[0;34m]\u001b[0m\u001b[0;34m,\u001b[0m\u001b[0mp\u001b[0m\u001b[0;34m)\u001b[0m\u001b[0;34m\u001b[0m\u001b[0;34m\u001b[0m\u001b[0m\n\u001b[0m\u001b[1;32m    917\u001b[0m         \u001b[0;32mreturn\u001b[0m \u001b[0mresult\u001b[0m\u001b[0;34m\u001b[0m\u001b[0;34m\u001b[0m\u001b[0m\n",
      "\u001b[0;32m~/opt/anaconda3/lib/python3.8/site-packages/scipy/spatial/kdtree.py\u001b[0m in \u001b[0;36mminkowski_distance\u001b[0;34m(x, y, p)\u001b[0m\n\u001b[1;32m     76\u001b[0m     \u001b[0my\u001b[0m \u001b[0;34m=\u001b[0m \u001b[0mnp\u001b[0m\u001b[0;34m.\u001b[0m\u001b[0masarray\u001b[0m\u001b[0;34m(\u001b[0m\u001b[0my\u001b[0m\u001b[0;34m)\u001b[0m\u001b[0;34m\u001b[0m\u001b[0;34m\u001b[0m\u001b[0m\n\u001b[1;32m     77\u001b[0m     \u001b[0;32mif\u001b[0m \u001b[0mp\u001b[0m \u001b[0;34m==\u001b[0m \u001b[0mnp\u001b[0m\u001b[0;34m.\u001b[0m\u001b[0minf\u001b[0m \u001b[0;32mor\u001b[0m \u001b[0mp\u001b[0m \u001b[0;34m==\u001b[0m \u001b[0;36m1\u001b[0m\u001b[0;34m:\u001b[0m\u001b[0;34m\u001b[0m\u001b[0;34m\u001b[0m\u001b[0m\n\u001b[0;32m---> 78\u001b[0;31m         \u001b[0;32mreturn\u001b[0m \u001b[0mminkowski_distance_p\u001b[0m\u001b[0;34m(\u001b[0m\u001b[0mx\u001b[0m\u001b[0;34m,\u001b[0m \u001b[0my\u001b[0m\u001b[0;34m,\u001b[0m \u001b[0mp\u001b[0m\u001b[0;34m)\u001b[0m\u001b[0;34m\u001b[0m\u001b[0;34m\u001b[0m\u001b[0m\n\u001b[0m\u001b[1;32m     79\u001b[0m     \u001b[0;32melse\u001b[0m\u001b[0;34m:\u001b[0m\u001b[0;34m\u001b[0m\u001b[0;34m\u001b[0m\u001b[0m\n\u001b[1;32m     80\u001b[0m         \u001b[0;32mreturn\u001b[0m \u001b[0mminkowski_distance_p\u001b[0m\u001b[0;34m(\u001b[0m\u001b[0mx\u001b[0m\u001b[0;34m,\u001b[0m \u001b[0my\u001b[0m\u001b[0;34m,\u001b[0m \u001b[0mp\u001b[0m\u001b[0;34m)\u001b[0m\u001b[0;34m**\u001b[0m\u001b[0;34m(\u001b[0m\u001b[0;36m1.\u001b[0m\u001b[0;34m/\u001b[0m\u001b[0mp\u001b[0m\u001b[0;34m)\u001b[0m\u001b[0;34m\u001b[0m\u001b[0;34m\u001b[0m\u001b[0m\n",
      "\u001b[0;32m~/opt/anaconda3/lib/python3.8/site-packages/scipy/spatial/kdtree.py\u001b[0m in \u001b[0;36mminkowski_distance_p\u001b[0;34m(x, y, p)\u001b[0m\n\u001b[1;32m     48\u001b[0m         \u001b[0;32mreturn\u001b[0m \u001b[0mnp\u001b[0m\u001b[0;34m.\u001b[0m\u001b[0mamax\u001b[0m\u001b[0;34m(\u001b[0m\u001b[0mnp\u001b[0m\u001b[0;34m.\u001b[0m\u001b[0mabs\u001b[0m\u001b[0;34m(\u001b[0m\u001b[0my\u001b[0m\u001b[0;34m-\u001b[0m\u001b[0mx\u001b[0m\u001b[0;34m)\u001b[0m\u001b[0;34m,\u001b[0m \u001b[0maxis\u001b[0m\u001b[0;34m=\u001b[0m\u001b[0;34m-\u001b[0m\u001b[0;36m1\u001b[0m\u001b[0;34m)\u001b[0m\u001b[0;34m\u001b[0m\u001b[0;34m\u001b[0m\u001b[0m\n\u001b[1;32m     49\u001b[0m     \u001b[0;32melif\u001b[0m \u001b[0mp\u001b[0m \u001b[0;34m==\u001b[0m \u001b[0;36m1\u001b[0m\u001b[0;34m:\u001b[0m\u001b[0;34m\u001b[0m\u001b[0;34m\u001b[0m\u001b[0m\n\u001b[0;32m---> 50\u001b[0;31m         \u001b[0;32mreturn\u001b[0m \u001b[0mnp\u001b[0m\u001b[0;34m.\u001b[0m\u001b[0msum\u001b[0m\u001b[0;34m(\u001b[0m\u001b[0mnp\u001b[0m\u001b[0;34m.\u001b[0m\u001b[0mabs\u001b[0m\u001b[0;34m(\u001b[0m\u001b[0my\u001b[0m\u001b[0;34m-\u001b[0m\u001b[0mx\u001b[0m\u001b[0;34m)\u001b[0m\u001b[0;34m,\u001b[0m \u001b[0maxis\u001b[0m\u001b[0;34m=\u001b[0m\u001b[0;34m-\u001b[0m\u001b[0;36m1\u001b[0m\u001b[0;34m)\u001b[0m\u001b[0;34m\u001b[0m\u001b[0;34m\u001b[0m\u001b[0m\n\u001b[0m\u001b[1;32m     51\u001b[0m     \u001b[0;32melse\u001b[0m\u001b[0;34m:\u001b[0m\u001b[0;34m\u001b[0m\u001b[0;34m\u001b[0m\u001b[0m\n\u001b[1;32m     52\u001b[0m         \u001b[0;32mreturn\u001b[0m \u001b[0mnp\u001b[0m\u001b[0;34m.\u001b[0m\u001b[0msum\u001b[0m\u001b[0;34m(\u001b[0m\u001b[0mnp\u001b[0m\u001b[0;34m.\u001b[0m\u001b[0mabs\u001b[0m\u001b[0;34m(\u001b[0m\u001b[0my\u001b[0m\u001b[0;34m-\u001b[0m\u001b[0mx\u001b[0m\u001b[0;34m)\u001b[0m\u001b[0;34m**\u001b[0m\u001b[0mp\u001b[0m\u001b[0;34m,\u001b[0m \u001b[0maxis\u001b[0m\u001b[0;34m=\u001b[0m\u001b[0;34m-\u001b[0m\u001b[0;36m1\u001b[0m\u001b[0;34m)\u001b[0m\u001b[0;34m\u001b[0m\u001b[0;34m\u001b[0m\u001b[0m\n",
      "\u001b[0;31mKeyboardInterrupt\u001b[0m: "
     ]
    }
   ],
   "source": [
    "smoten=SMOTEN()\n",
    "\n",
    "X_train_sm, y_train_sm = smoten.fit_resample(train_feature_set.toarray(),y_train)\n",
    "#X_test_sm, y_test_sm = smote.fit_resample(test_feature_set,y_test)"
   ]
  },
  {
   "cell_type": "markdown",
   "id": "5be88fb3",
   "metadata": {},
   "source": [
    "## Take out all the 3s"
   ]
  },
  {
   "cell_type": "code",
   "execution_count": 88,
   "id": "be60a740",
   "metadata": {},
   "outputs": [
    {
     "name": "stdout",
     "output_type": "stream",
     "text": [
      "main df and clean df shape: (19818, 11) (22641, 11)\n",
      "X.shape: (19818,) \t y_shape: (19818, 1)\n",
      "train_test_split: (13872,) (5946,) \t (13872, 1) (5946, 1)\n"
     ]
    }
   ],
   "source": [
    "df_no3= df[df['Rating']!=3]\n",
    "\n",
    "print('main df and clean df shape:',df_no3.shape , df.shape)\n",
    "\n",
    "# X , y\n",
    "X = df_no3['Review Text']\n",
    "y= df_no3[\"Recommended IND\"].values.reshape(-1,1)\n",
    "print(\"X.shape:\", X.shape, '\\t y_shape:', y.shape)\n",
    "\n",
    "\n",
    "X_train, X_test, y_train, y_test = train_test_split(X , y , stratify =y , test_size = 0.3, random_state= 100)\n",
    "print('train_test_split:',X_train.shape , X_test.shape,'\\t', y_train.shape, y_test.shape)\n"
   ]
  },
  {
   "cell_type": "code",
   "execution_count": 95,
   "id": "265ee855",
   "metadata": {},
   "outputs": [],
   "source": [
    "tv = TfidfVectorizer(binary= True, stop_words=sw, ngram_range=(1,2), max_features=10000)\n",
    "tv.fit_transform(X_train)\n",
    "train_feature_set = tv.transform(X_train)\n",
    "test_feature_set = tv.transform(X_test)"
   ]
  },
  {
   "cell_type": "code",
   "execution_count": 96,
   "id": "71343f58",
   "metadata": {},
   "outputs": [
    {
     "name": "stdout",
     "output_type": "stream",
     "text": [
      "RandomForestClassifier()\n",
      "Accuracy: 0.975\n",
      "Confusion Matrix:  \n",
      " [[ 134  600]\n",
      " [  19 5193]]\n",
      "Classification Report \n",
      "               precision    recall  f1-score   support\n",
      "\n",
      "           0       0.88      0.18      0.30       734\n",
      "           1       0.90      1.00      0.94      5212\n",
      "\n",
      "    accuracy                           0.90      5946\n",
      "   macro avg       0.89      0.59      0.62      5946\n",
      "weighted avg       0.89      0.90      0.86      5946\n",
      "\n"
     ]
    }
   ],
   "source": [
    "smote=SMOTE()\n",
    "X_train_sm, y_train_sm = smote.fit_resample(train_feature_set,y_train)\n",
    "\n",
    "rf = RandomForestClassifier()\n",
    "model_predictions(rf,X_train_sm,y_train_sm,test_feature_set, y_test)"
   ]
  },
  {
   "cell_type": "code",
   "execution_count": 92,
   "id": "8e4dc69c",
   "metadata": {},
   "outputs": [
    {
     "name": "stdout",
     "output_type": "stream",
     "text": [
      "LogisticRegression()\n",
      "Accuracy: 0.919\n",
      "Confusion Matrix:  \n",
      " [[ 136  598]\n",
      " [  11 5201]]\n",
      "Classification Report \n",
      "               precision    recall  f1-score   support\n",
      "\n",
      "           0       0.93      0.19      0.31       734\n",
      "           1       0.90      1.00      0.94      5212\n",
      "\n",
      "    accuracy                           0.90      5946\n",
      "   macro avg       0.91      0.59      0.63      5946\n",
      "weighted avg       0.90      0.90      0.87      5946\n",
      "\n"
     ]
    }
   ],
   "source": [
    "# With tf-idf\n",
    "lr = LogisticRegression()\n",
    "model_predictions(lr,train_feature_set,y_train, test_feature_set, y_test)"
   ]
  },
  {
   "cell_type": "code",
   "execution_count": 249,
   "id": "ff3e4e15",
   "metadata": {},
   "outputs": [
    {
     "name": "stdout",
     "output_type": "stream",
     "text": [
      "LogisticRegression()\n",
      "Accuracy: 0.883\n",
      "Confusion Matrix:  \n",
      " [[ 700  530]\n",
      " [ 250 5313]]\n",
      "Classification Report \n",
      "               precision    recall  f1-score   support\n",
      "\n",
      "           0       0.74      0.57      0.64      1230\n",
      "           1       0.91      0.96      0.93      5563\n",
      "\n",
      "    accuracy                           0.89      6793\n",
      "   macro avg       0.82      0.76      0.79      6793\n",
      "weighted avg       0.88      0.89      0.88      6793\n",
      "\n"
     ]
    }
   ],
   "source": [
    "# with count Vectorizer\n",
    "cv = CountVectorizer(binary = True, stop_words= 'english',  min_df = 5, max_df = 0.95, ngram_range=(1,2))\n",
    "cv.fit_transform(X_train)\n",
    "train_feature_set = cv.transform(X_train)\n",
    "test_feature_set = cv.transform(X_test)\n",
    "\n",
    "lr = LogisticRegression()\n",
    "model_predictions(lr,train_feature_set,y_train, test_feature_set, y_test)"
   ]
  },
  {
   "cell_type": "code",
   "execution_count": 256,
   "id": "76831dc5",
   "metadata": {},
   "outputs": [
    {
     "name": "stdout",
     "output_type": "stream",
     "text": [
      "LogisticRegression(penalty='l1', solver='liblinear')\n",
      "Accuracy: 0.877\n",
      "Confusion Matrix:  \n",
      " [[ 712  518]\n",
      " [ 275 5288]]\n",
      "Classification Report \n",
      "               precision    recall  f1-score   support\n",
      "\n",
      "           0       0.72      0.58      0.64      1230\n",
      "           1       0.91      0.95      0.93      5563\n",
      "\n",
      "    accuracy                           0.88      6793\n",
      "   macro avg       0.82      0.76      0.79      6793\n",
      "weighted avg       0.88      0.88      0.88      6793\n",
      "\n"
     ]
    }
   ],
   "source": [
    "smote=SMOTE()\n",
    "X_train_sm, y_train_sm = smote.fit_resample(train_feature_set,y_train)\n",
    "lr = LogisticRegression(penalty='l1', solver='liblinear')\n",
    "model_predictions(lr,X_train_sm,y_train_sm, test_feature_set, y_test)"
   ]
  },
  {
   "cell_type": "code",
   "execution_count": null,
   "id": "86fe4b26",
   "metadata": {},
   "outputs": [],
   "source": []
  }
 ],
 "metadata": {
  "kernelspec": {
   "display_name": "Python 3",
   "language": "python",
   "name": "python3"
  },
  "language_info": {
   "codemirror_mode": {
    "name": "ipython",
    "version": 3
   },
   "file_extension": ".py",
   "mimetype": "text/x-python",
   "name": "python",
   "nbconvert_exporter": "python",
   "pygments_lexer": "ipython3",
   "version": "3.8.10"
  }
 },
 "nbformat": 4,
 "nbformat_minor": 5
}
