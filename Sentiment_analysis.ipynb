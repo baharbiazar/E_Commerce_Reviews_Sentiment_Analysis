{
 "cells": [
  {
   "cell_type": "code",
   "execution_count": 8,
   "id": "673aeded",
   "metadata": {},
   "outputs": [],
   "source": [
    "import pandas as pd\n",
    "import numpy as np\n",
    "\n",
    "import matplotlib.pyplot as plt\n",
    "\n",
    "#from sklearn."
   ]
  },
  {
   "cell_type": "code",
   "execution_count": 9,
   "id": "08848daa",
   "metadata": {},
   "outputs": [],
   "source": [
    "from nltk.corpus import stopwords\n",
    "import string"
   ]
  },
  {
   "cell_type": "code",
   "execution_count": 10,
   "id": "883c8a2a",
   "metadata": {},
   "outputs": [],
   "source": [
    "from sklearn.feature_extraction.text import TfidfVectorizer\n",
    "from sklearn.feature_extraction.text import CountVectorizer"
   ]
  },
  {
   "cell_type": "code",
   "execution_count": null,
   "id": "23ac2420",
   "metadata": {},
   "outputs": [],
   "source": []
  },
  {
   "cell_type": "code",
   "execution_count": 11,
   "id": "78c6ed2d",
   "metadata": {},
   "outputs": [],
   "source": [
    "df= pd.read_csv('data/df_and_token.csv')"
   ]
  },
  {
   "cell_type": "code",
   "execution_count": 9,
   "id": "83305250",
   "metadata": {},
   "outputs": [
    {
     "data": {
      "text/html": [
       "<div>\n",
       "<style scoped>\n",
       "    .dataframe tbody tr th:only-of-type {\n",
       "        vertical-align: middle;\n",
       "    }\n",
       "\n",
       "    .dataframe tbody tr th {\n",
       "        vertical-align: top;\n",
       "    }\n",
       "\n",
       "    .dataframe thead th {\n",
       "        text-align: right;\n",
       "    }\n",
       "</style>\n",
       "<table border=\"1\" class=\"dataframe\">\n",
       "  <thead>\n",
       "    <tr style=\"text-align: right;\">\n",
       "      <th></th>\n",
       "      <th>Unnamed: 0</th>\n",
       "      <th>index</th>\n",
       "      <th>Clothing ID</th>\n",
       "      <th>Age</th>\n",
       "      <th>Title</th>\n",
       "      <th>Review Text</th>\n",
       "      <th>Rating</th>\n",
       "      <th>Recommended IND</th>\n",
       "      <th>Positive Feedback Count</th>\n",
       "      <th>Division Name</th>\n",
       "      <th>Department Name</th>\n",
       "      <th>Class Name</th>\n",
       "      <th>token_strings</th>\n",
       "    </tr>\n",
       "  </thead>\n",
       "  <tbody>\n",
       "    <tr>\n",
       "      <th>0</th>\n",
       "      <td>0</td>\n",
       "      <td>0</td>\n",
       "      <td>767</td>\n",
       "      <td>33</td>\n",
       "      <td>NaN</td>\n",
       "      <td>Absolutely wonderful - silky and sexy and comf...</td>\n",
       "      <td>4</td>\n",
       "      <td>1</td>\n",
       "      <td>0</td>\n",
       "      <td>Initmates</td>\n",
       "      <td>Intimate</td>\n",
       "      <td>Intimates</td>\n",
       "      <td>absolutely wonderful silky sexy comfortable ab...</td>\n",
       "    </tr>\n",
       "  </tbody>\n",
       "</table>\n",
       "</div>"
      ],
      "text/plain": [
       "   Unnamed: 0  index  Clothing ID  Age Title  \\\n",
       "0           0      0          767   33   NaN   \n",
       "\n",
       "                                         Review Text  Rating  Recommended IND  \\\n",
       "0  Absolutely wonderful - silky and sexy and comf...       4                1   \n",
       "\n",
       "   Positive Feedback Count Division Name Department Name Class Name  \\\n",
       "0                        0     Initmates        Intimate  Intimates   \n",
       "\n",
       "                                       token_strings  \n",
       "0  absolutely wonderful silky sexy comfortable ab...  "
      ]
     },
     "execution_count": 9,
     "metadata": {},
     "output_type": "execute_result"
    }
   ],
   "source": [
    "df.head(1)"
   ]
  },
  {
   "cell_type": "code",
   "execution_count": 12,
   "id": "59c8e420",
   "metadata": {},
   "outputs": [],
   "source": [
    "vectorizer= TfidfVectorizer(min_df=3, max_features= 5000, \n",
    "                            token_pattern= '\\s([A-Za-z0-9-]+)\\s', ngram_range=(1,2))"
   ]
  },
  {
   "cell_type": "code",
   "execution_count": 13,
   "id": "fab467b1",
   "metadata": {},
   "outputs": [],
   "source": [
    "tfidf= vectorizer.fit_transform(df.token_strings)"
   ]
  },
  {
   "cell_type": "code",
   "execution_count": 14,
   "id": "9e1a09c1",
   "metadata": {},
   "outputs": [
    {
     "data": {
      "text/html": [
       "<div>\n",
       "<style scoped>\n",
       "    .dataframe tbody tr th:only-of-type {\n",
       "        vertical-align: middle;\n",
       "    }\n",
       "\n",
       "    .dataframe tbody tr th {\n",
       "        vertical-align: top;\n",
       "    }\n",
       "\n",
       "    .dataframe thead th {\n",
       "        text-align: right;\n",
       "    }\n",
       "</style>\n",
       "<table border=\"1\" class=\"dataframe\">\n",
       "  <thead>\n",
       "    <tr style=\"text-align: right;\">\n",
       "      <th></th>\n",
       "      <th>-</th>\n",
       "      <th>--small</th>\n",
       "      <th>00p</th>\n",
       "      <th>2nd</th>\n",
       "      <th>2p</th>\n",
       "      <th>30dd</th>\n",
       "      <th>32b</th>\n",
       "      <th>32c</th>\n",
       "      <th>32d</th>\n",
       "      <th>32dd</th>\n",
       "      <th>...</th>\n",
       "      <th>year-old</th>\n",
       "      <th>year-round</th>\n",
       "      <th>yellow</th>\n",
       "      <th>yesterday</th>\n",
       "      <th>yet</th>\n",
       "      <th>yet-not</th>\n",
       "      <th>yoga</th>\n",
       "      <th>young</th>\n",
       "      <th>zip</th>\n",
       "      <th>zipper</th>\n",
       "    </tr>\n",
       "  </thead>\n",
       "  <tbody>\n",
       "    <tr>\n",
       "      <th>0</th>\n",
       "      <td>0.0</td>\n",
       "      <td>0.0</td>\n",
       "      <td>0.0</td>\n",
       "      <td>0.0</td>\n",
       "      <td>0.0</td>\n",
       "      <td>0.0</td>\n",
       "      <td>0.0</td>\n",
       "      <td>0.0</td>\n",
       "      <td>0.0</td>\n",
       "      <td>0.0</td>\n",
       "      <td>...</td>\n",
       "      <td>0.0</td>\n",
       "      <td>0.0</td>\n",
       "      <td>0.0</td>\n",
       "      <td>0.0</td>\n",
       "      <td>0.0</td>\n",
       "      <td>0.0</td>\n",
       "      <td>0.0</td>\n",
       "      <td>0.0</td>\n",
       "      <td>0.0</td>\n",
       "      <td>0.0</td>\n",
       "    </tr>\n",
       "  </tbody>\n",
       "</table>\n",
       "<p>1 rows × 5000 columns</p>\n",
       "</div>"
      ],
      "text/plain": [
       "     -  --small  00p  2nd   2p  30dd  32b  32c  32d  32dd  ...  year-old  \\\n",
       "0  0.0      0.0  0.0  0.0  0.0   0.0  0.0  0.0  0.0   0.0  ...       0.0   \n",
       "\n",
       "   year-round  yellow  yesterday  yet  yet-not  yoga  young  zip  zipper  \n",
       "0         0.0     0.0        0.0  0.0      0.0   0.0    0.0  0.0     0.0  \n",
       "\n",
       "[1 rows x 5000 columns]"
      ]
     },
     "execution_count": 14,
     "metadata": {},
     "output_type": "execute_result"
    }
   ],
   "source": [
    "matrix = tfidf.todense()\n",
    "word_matrix = pd.DataFrame(data = matrix, columns= vectorizer.get_feature_names())\n",
    "word_matrix.head(1)"
   ]
  },
  {
   "cell_type": "code",
   "execution_count": 32,
   "id": "8225a759",
   "metadata": {},
   "outputs": [
    {
     "name": "stdout",
     "output_type": "stream",
     "text": [
      "<class 'pandas.core.frame.DataFrame'>\n",
      "RangeIndex: 22641 entries, 0 to 22640\n",
      "Columns: 8228 entries, - to zipper-not\n",
      "dtypes: float64(8228)\n",
      "memory usage: 1.4 GB\n"
     ]
    }
   ],
   "source": [
    "word_matrix.info()"
   ]
  },
  {
   "cell_type": "code",
   "execution_count": 49,
   "id": "6978e5a9",
   "metadata": {},
   "outputs": [],
   "source": [
    "def top_n_ngram(corpus,n = None,ngram = 1):\n",
    "    bag_of_words = tfidf \n",
    "    sum_words = bag_of_words.sum(axis =0) #Calculates the tfidf of all the word in the whole review\n",
    "    words_freq = [(word,sum_words[0,idx]) for word,idx in vectorizer.vocabulary_.items()]\n",
    "    words_freq = sorted(words_freq,key = lambda x:x[1],reverse = True)\n",
    "    return words_freq[:n]\n"
   ]
  },
  {
   "cell_type": "code",
   "execution_count": 51,
   "id": "acc98b21",
   "metadata": {},
   "outputs": [
    {
     "data": {
      "text/plain": [
       "<AxesSubplot:title={'center':'Top 20 unigrams in review after removing stop words'}, xlabel='token_strings'>"
      ]
     },
     "execution_count": 51,
     "metadata": {},
     "output_type": "execute_result"
    },
    {
     "data": {
      "image/png": "[encoded data removed]",
      "text/plain": [
       "<Figure size 720x360 with 1 Axes>"
      ]
     },
     "metadata": {
      "needs_background": "light"
     },
     "output_type": "display_data"
    }
   ],
   "source": [
    "common_words = top_n_ngram(df['token_strings'], 20, 1)\n",
    "common_df = pd.DataFrame(common_words, columns = ['token_strings' , 'count'])\n",
    "\n",
    "plt.figure(figsize =(10,5))\n",
    "common_df.groupby('token_strings').sum()['count'].sort_values(ascending=False).plot(\n",
    "kind='bar', title='Top 20 unigrams in review after removing stop words')\n"
   ]
  },
  {
   "cell_type": "code",
   "execution_count": 45,
   "id": "7fa6842d",
   "metadata": {},
   "outputs": [],
   "source": [
    "def top_n_ngram(corpus,n = None,ngram = 1):\n",
    "    vec = CountVectorizer(stop_words = 'english',ngram_range=(ngram,ngram)).fit(corpus)\n",
    "    bag_of_words = vec.transform(corpus) #Have the count of  all the words for each review\n",
    "    sum_words = bag_of_words.sum(axis =0) #Calculates the count of all the word in the whole review\n",
    "    words_freq = [(word,sum_words[0,idx]) for word,idx in vec.vocabulary_.items()]\n",
    "    words_freq = sorted(words_freq,key = lambda x:x[1],reverse = True)\n",
    "    return words_freq[:n]\n"
   ]
  },
  {
   "cell_type": "code",
   "execution_count": 46,
   "id": "34f5d789",
   "metadata": {},
   "outputs": [
    {
     "data": {
      "text/plain": [
       "<AxesSubplot:title={'center':'Top 20 unigrams in review after removing stop words'}, xlabel='token_strings'>"
      ]
     },
     "execution_count": 46,
     "metadata": {},
     "output_type": "execute_result"
    },
    {
     "data": {
      "image/png": "[encoded data removed]",
      "text/plain": [
       "<Figure size 720x360 with 1 Axes>"
      ]
     },
     "metadata": {
      "needs_background": "light"
     },
     "output_type": "display_data"
    }
   ],
   "source": [
    "common_words = top_n_ngram(df['token_strings'], 20, 1)\n",
    "common_df = pd.DataFrame(common_words, columns = ['token_strings' , 'count'])\n",
    "\n",
    "plt.figure(figsize =(10,5))\n",
    "common_df.groupby('token_strings').sum()['count'].sort_values(ascending=False).plot(\n",
    "kind='bar', title='Top 20 unigrams in review after removing stop words')"
   ]
  },
  {
   "cell_type": "markdown",
   "id": "17f938b5",
   "metadata": {},
   "source": [
    "## Machine Learning"
   ]
  },
  {
   "cell_type": "code",
   "execution_count": 6,
   "id": "dc5bb8e4",
   "metadata": {},
   "outputs": [],
   "source": [
    "from sklearn.model_selection import train_test_split\n",
    "from sklearn.model_selection import cross_val_score\n",
    "from sklearn.model_selection import cross_val_predict\n",
    "\n",
    "from sklearn.linear_model import LogisticRegression\n",
    "from sklearn.ensemble import RandomForestClassifier\n",
    "from sklearn.naive_bayes import GaussianNB\n",
    "#from sklearn.svm import LinearSVC\n",
    "\n",
    "from sklearn.metrics import confusion_matrix\n",
    "from sklearn.metrics import precision_score, recall_score\n",
    "from sklearn.metrics import f1_score\n",
    "from sklearn.metrics import precision_recall_curve\n",
    "from sklearn.metrics import roc_curve\n",
    "from sklearn.metrics import roc_auc_score\n",
    "from sklearn.metrics import classification_report"
   ]
  },
  {
   "cell_type": "code",
   "execution_count": 15,
   "id": "61d8d7ee",
   "metadata": {},
   "outputs": [
    {
     "data": {
      "text/plain": [
       "((22641, 5000), (22641,))"
      ]
     },
     "execution_count": 15,
     "metadata": {},
     "output_type": "execute_result"
    }
   ],
   "source": [
    "X= word_matrix\n",
    "y= df['Recommended IND']\n",
    "\n",
    "X.shape, y.shape"
   ]
  },
  {
   "cell_type": "code",
   "execution_count": 16,
   "id": "99a88253",
   "metadata": {},
   "outputs": [],
   "source": [
    "X_train, X_test, y_train, y_test = train_test_split(X, y,\n",
    "                                                    random_state=0,\n",
    "                                                    stratify=y, \n",
    "                                                    test_size=0.2)"
   ]
  },
  {
   "cell_type": "code",
   "execution_count": 17,
   "id": "e6a16fdf",
   "metadata": {},
   "outputs": [],
   "source": [
    "def model(mod, model_name, X_train, y_train, X_test, y_test):\n",
    "    mod.fit(X_train, y_train)\n",
    "    print(model_name)\n",
    "    acc = cross_val_score(mod, X_train, y_train, scoring = \"accuracy\", cv = 5)\n",
    "    predictions = cross_val_predict(mod, X_train, y_train, cv = 5)\n",
    "    print(\"Accuracy:\", round(acc.mean(),3))\n",
    "    cm = confusion_matrix(predictions, y_train)\n",
    "    print(\"Confusion Matrix:  \\n\", cm)\n",
    "    print(\"Classification Report \\n\", classification_report(predictions, y_train))"
   ]
  },
  {
   "cell_type": "code",
   "execution_count": 18,
   "id": "e941e0c4",
   "metadata": {},
   "outputs": [
    {
     "name": "stdout",
     "output_type": "stream",
     "text": [
      "Gaussian Naive Bayes\n",
      "Accuracy: 0.564\n",
      "Confusion Matrix:  \n",
      " [[2385 7002]\n",
      " [ 896 7829]]\n",
      "Classification Report \n",
      "               precision    recall  f1-score   support\n",
      "\n",
      "           0       0.73      0.25      0.38      9387\n",
      "           1       0.53      0.90      0.66      8725\n",
      "\n",
      "    accuracy                           0.56     18112\n",
      "   macro avg       0.63      0.58      0.52     18112\n",
      "weighted avg       0.63      0.56      0.52     18112\n",
      "\n"
     ]
    }
   ],
   "source": [
    "#1. Gaussian Naive Bayes\n",
    "gnb = GaussianNB()\n",
    "model(gnb, \"Gaussian Naive Bayes\", X_train, y_train, X_test, y_test)"
   ]
  },
  {
   "cell_type": "code",
   "execution_count": 81,
   "id": "3db0c54f",
   "metadata": {},
   "outputs": [
    {
     "name": "stdout",
     "output_type": "stream",
     "text": [
      "Random Forest Classifier\n",
      "Accuracy: 0.841\n",
      "Confusion Matrix:  \n",
      " [[  821   378]\n",
      " [ 2460 14453]]\n",
      "Classification Report \n",
      "               precision    recall  f1-score   support\n",
      "\n",
      "           0       0.25      0.68      0.37      1199\n",
      "           1       0.97      0.85      0.91     16913\n",
      "\n",
      "    accuracy                           0.84     18112\n",
      "   macro avg       0.61      0.77      0.64     18112\n",
      "weighted avg       0.93      0.84      0.87     18112\n",
      "\n"
     ]
    }
   ],
   "source": [
    "# 2. Random Forest Classifier\n",
    "ran = RandomForestClassifier(n_estimators=20)\n",
    "model(ran, \"Random Forest Classifier\", X_train, y_train, X_test, y_test)"
   ]
  },
  {
   "cell_type": "code",
   "execution_count": 82,
   "id": "72e3f41f",
   "metadata": {},
   "outputs": [
    {
     "name": "stdout",
     "output_type": "stream",
     "text": [
      "Logistic Regression\n",
      "Accuracy: 0.851\n",
      "Confusion Matrix:  \n",
      " [[  803   218]\n",
      " [ 2478 14613]]\n",
      "Classification Report \n",
      "               precision    recall  f1-score   support\n",
      "\n",
      "           0       0.24      0.79      0.37      1021\n",
      "           1       0.99      0.86      0.92     17091\n",
      "\n",
      "    accuracy                           0.85     18112\n",
      "   macro avg       0.62      0.82      0.64     18112\n",
      "weighted avg       0.94      0.85      0.88     18112\n",
      "\n"
     ]
    }
   ],
   "source": [
    "# 3. Logistic Regression\n",
    "log = LogisticRegression()\n",
    "model(log, \"Logistic Regression\", X_train, y_train, X_test, y_test)"
   ]
  },
  {
   "cell_type": "code",
   "execution_count": 3,
   "id": "959a5cca",
   "metadata": {},
   "outputs": [],
   "source": [
    "from xgboost import XGBClassifier"
   ]
  },
  {
   "cell_type": "code",
   "execution_count": 19,
   "id": "54b993ea",
   "metadata": {},
   "outputs": [
    {
     "name": "stdout",
     "output_type": "stream",
     "text": [
      "[19:35:56] WARNING: /Users/travis/build/dmlc/xgboost/src/learner.cc:1095: Starting in XGBoost 1.3.0, the default evaluation metric used with the objective 'binary:logistic' was changed from 'error' to 'logloss'. Explicitly set eval_metric if you'd like to restore the old behavior.\n",
      "XGBClassifier\n",
      "[19:43:08] WARNING: /Users/travis/build/dmlc/xgboost/src/learner.cc:1095: Starting in XGBoost 1.3.0, the default evaluation metric used with the objective 'binary:logistic' was changed from 'error' to 'logloss'. Explicitly set eval_metric if you'd like to restore the old behavior.\n",
      "[19:46:11] WARNING: /Users/travis/build/dmlc/xgboost/src/learner.cc:1095: Starting in XGBoost 1.3.0, the default evaluation metric used with the objective 'binary:logistic' was changed from 'error' to 'logloss'. Explicitly set eval_metric if you'd like to restore the old behavior.\n",
      "[19:49:02] WARNING: /Users/travis/build/dmlc/xgboost/src/learner.cc:1095: Starting in XGBoost 1.3.0, the default evaluation metric used with the objective 'binary:logistic' was changed from 'error' to 'logloss'. Explicitly set eval_metric if you'd like to restore the old behavior.\n",
      "[19:51:53] WARNING: /Users/travis/build/dmlc/xgboost/src/learner.cc:1095: Starting in XGBoost 1.3.0, the default evaluation metric used with the objective 'binary:logistic' was changed from 'error' to 'logloss'. Explicitly set eval_metric if you'd like to restore the old behavior.\n",
      "[19:54:44] WARNING: /Users/travis/build/dmlc/xgboost/src/learner.cc:1095: Starting in XGBoost 1.3.0, the default evaluation metric used with the objective 'binary:logistic' was changed from 'error' to 'logloss'. Explicitly set eval_metric if you'd like to restore the old behavior.\n",
      "[19:57:34] WARNING: /Users/travis/build/dmlc/xgboost/src/learner.cc:1095: Starting in XGBoost 1.3.0, the default evaluation metric used with the objective 'binary:logistic' was changed from 'error' to 'logloss'. Explicitly set eval_metric if you'd like to restore the old behavior.\n",
      "[20:00:23] WARNING: /Users/travis/build/dmlc/xgboost/src/learner.cc:1095: Starting in XGBoost 1.3.0, the default evaluation metric used with the objective 'binary:logistic' was changed from 'error' to 'logloss'. Explicitly set eval_metric if you'd like to restore the old behavior.\n",
      "[20:03:12] WARNING: /Users/travis/build/dmlc/xgboost/src/learner.cc:1095: Starting in XGBoost 1.3.0, the default evaluation metric used with the objective 'binary:logistic' was changed from 'error' to 'logloss'. Explicitly set eval_metric if you'd like to restore the old behavior.\n",
      "[20:06:05] WARNING: /Users/travis/build/dmlc/xgboost/src/learner.cc:1095: Starting in XGBoost 1.3.0, the default evaluation metric used with the objective 'binary:logistic' was changed from 'error' to 'logloss'. Explicitly set eval_metric if you'd like to restore the old behavior.\n",
      "[20:08:55] WARNING: /Users/travis/build/dmlc/xgboost/src/learner.cc:1095: Starting in XGBoost 1.3.0, the default evaluation metric used with the objective 'binary:logistic' was changed from 'error' to 'logloss'. Explicitly set eval_metric if you'd like to restore the old behavior.\n",
      "Accuracy: 0.85\n",
      "Confusion Matrix:  \n",
      " [[  994   424]\n",
      " [ 2287 14407]]\n",
      "Classification Report \n",
      "               precision    recall  f1-score   support\n",
      "\n",
      "           0       0.30      0.70      0.42      1418\n",
      "           1       0.97      0.86      0.91     16694\n",
      "\n",
      "    accuracy                           0.85     18112\n",
      "   macro avg       0.64      0.78      0.67     18112\n",
      "weighted avg       0.92      0.85      0.88     18112\n",
      "\n"
     ]
    }
   ],
   "source": [
    "xgb = XGBClassifier(use_label_encoder=False)\n",
    "model(xgb, 'XGBClassifier', X_train, y_train, X_test, y_test)"
   ]
  },
  {
   "cell_type": "code",
   "execution_count": null,
   "id": "7e905e64",
   "metadata": {},
   "outputs": [],
   "source": []
  }
 ],
 "metadata": {
  "kernelspec": {
   "display_name": "Python 3",
   "language": "python",
   "name": "python3"
  },
  "language_info": {
   "codemirror_mode": {
    "name": "ipython",
    "version": 3
   },
   "file_extension": ".py",
   "mimetype": "text/x-python",
   "name": "python",
   "nbconvert_exporter": "python",
   "pygments_lexer": "ipython3",
   "version": "3.8.10"
  }
 },
 "nbformat": 4,
 "nbformat_minor": 5
}
