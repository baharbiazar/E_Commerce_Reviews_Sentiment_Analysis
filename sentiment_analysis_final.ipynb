{
 "cells": [
  {
   "cell_type": "markdown",
   "id": "9ef5ec32",
   "metadata": {},
   "source": [
    "## About this notebook:\n",
    "In this Notebook 2 vactorizers are examined for sentiment analysis: Count and TF-IDF on corpus. Once with and Once without processing text.<br>\n",
    "For each approach, 4 models are built to classify text : Logistic Regression, Random Forest, XGBoost and Naive Bayes. <br>\n",
    "Best Result is Logistic Regression, with TF-IDF and no text processing."
   ]
  },
  {
   "cell_type": "code",
   "execution_count": 22,
   "id": "f38a0b33",
   "metadata": {},
   "outputs": [],
   "source": [
    "import sys\n",
    "import warnings\n",
    "if not sys.warnoptions:\n",
    "    warnings.simplefilter(\"ignore\")\n",
    "    \n",
    "import pandas as pd\n",
    "import numpy as np\n",
    "import matplotlib.pyplot as plt\n",
    "plt.style.use('ggplot')\n",
    "\n",
    "import seaborn as sns\n",
    "\n",
    "import string\n",
    "import time\n",
    "import re\n",
    "\n",
    "from sklearn.feature_extraction.text import CountVectorizer, TfidfVectorizer\n",
    "\n",
    "\n",
    "from sklearn.model_selection import train_test_split\n",
    "from sklearn.model_selection import cross_val_score\n",
    "from sklearn.model_selection import cross_val_predict\n",
    "\n",
    "from sklearn.linear_model import LogisticRegression\n",
    "from sklearn.ensemble import RandomForestClassifier\n",
    "from sklearn.naive_bayes import GaussianNB\n",
    "#from sklearn.svm import LinearSVC\n",
    "\n",
    "from sklearn.metrics import confusion_matrix\n",
    "from sklearn.metrics import precision_score, recall_score, accuracy_score, f1_score, average_precision_score\n",
    "from sklearn.metrics import f1_score\n",
    "from sklearn.metrics import precision_recall_curve\n",
    "from sklearn.metrics import roc_curve\n",
    "from sklearn.metrics import roc_auc_score\n",
    "from sklearn.metrics import classification_report\n",
    "from sklearn.pipeline import Pipeline\n",
    "\n",
    "from imblearn.over_sampling import SMOTE , SMOTEN\n",
    "\n",
    "from nltk.corpus import stopwords\n",
    "from nltk.util import ngrams\n",
    "from nltk.tokenize import sent_tokenize, word_tokenize\n",
    "from nltk.corpus import stopwords\n",
    "from nltk.stem.snowball import SnowballStemmer\n",
    "from nltk.stem import WordNetLemmatizer\n",
    "from nltk.stem import PorterStemmer\n",
    "\n",
    "from xgboost import XGBClassifier\n",
    "\n",
    "from joblib import dump , load"
   ]
  },
  {
   "cell_type": "markdown",
   "id": "6ab06ee7",
   "metadata": {},
   "source": [
    "## Importing and Splitting Data"
   ]
  },
  {
   "cell_type": "code",
   "execution_count": 8,
   "id": "378f1e71",
   "metadata": {},
   "outputs": [
    {
     "name": "stdout",
     "output_type": "stream",
     "text": [
      "main df and clean df shape: (23486, 11) (22641, 11)\n",
      "X.shape: (22641,) \t y_shape: (22641, 1)\n",
      "train_test_split: (15848,) (6793,) \t (15848, 1) (6793, 1)\n"
     ]
    }
   ],
   "source": [
    "# Preparing the main corpus\n",
    "main_df= pd.read_csv('data/reviews.csv')\n",
    "\n",
    "# Remove nan reviews\n",
    "df= main_df.copy()\n",
    "df.dropna(subset= ['Review Text'], inplace= True)\n",
    "\n",
    "print('main df and clean df shape:',main_df.shape , df.shape)\n",
    "\n",
    "# X , y\n",
    "\n",
    "X = df['Review Text']\n",
    "y= df[\"Recommended IND\"].values.reshape(-1,1)\n",
    "print(\"X.shape:\", X.shape, '\\t y_shape:', y.shape)\n",
    "\n",
    "\n",
    "X_train, X_test, y_train, y_test = train_test_split(X , y , stratify =y , test_size = 0.3, random_state= 100)\n",
    "print('train_test_split:',X_train.shape , X_test.shape,'\\t', y_train.shape, y_test.shape)"
   ]
  },
  {
   "cell_type": "code",
   "execution_count": 20,
   "id": "1b55c0ca",
   "metadata": {},
   "outputs": [
    {
     "data": {
      "text/html": [
       "<div>\n",
       "<style scoped>\n",
       "    .dataframe tbody tr th:only-of-type {\n",
       "        vertical-align: middle;\n",
       "    }\n",
       "\n",
       "    .dataframe tbody tr th {\n",
       "        vertical-align: top;\n",
       "    }\n",
       "\n",
       "    .dataframe thead th {\n",
       "        text-align: right;\n",
       "    }\n",
       "</style>\n",
       "<table border=\"1\" class=\"dataframe\">\n",
       "  <thead>\n",
       "    <tr style=\"text-align: right;\">\n",
       "      <th></th>\n",
       "      <th>Unnamed: 0</th>\n",
       "      <th>Clothing ID</th>\n",
       "      <th>Age</th>\n",
       "      <th>Title</th>\n",
       "      <th>Review Text</th>\n",
       "      <th>Rating</th>\n",
       "      <th>Recommended</th>\n",
       "      <th>Positive Feedback Count</th>\n",
       "      <th>Division Name</th>\n",
       "      <th>Department Name</th>\n",
       "      <th>Class Name</th>\n",
       "      <th>polarity</th>\n",
       "    </tr>\n",
       "  </thead>\n",
       "  <tbody>\n",
       "    <tr>\n",
       "      <th>0</th>\n",
       "      <td>0</td>\n",
       "      <td>767</td>\n",
       "      <td>33</td>\n",
       "      <td>NaN</td>\n",
       "      <td>Absolutely wonderful - silky and sexy and comf...</td>\n",
       "      <td>4</td>\n",
       "      <td>1</td>\n",
       "      <td>0</td>\n",
       "      <td>Initmates</td>\n",
       "      <td>Intimate</td>\n",
       "      <td>Intimates</td>\n",
       "      <td>0.633333</td>\n",
       "    </tr>\n",
       "    <tr>\n",
       "      <th>1</th>\n",
       "      <td>1</td>\n",
       "      <td>1080</td>\n",
       "      <td>34</td>\n",
       "      <td>NaN</td>\n",
       "      <td>Love this dress!  it's sooo pretty.  i happene...</td>\n",
       "      <td>5</td>\n",
       "      <td>1</td>\n",
       "      <td>4</td>\n",
       "      <td>General</td>\n",
       "      <td>Dresses</td>\n",
       "      <td>Dresses</td>\n",
       "      <td>0.339583</td>\n",
       "    </tr>\n",
       "    <tr>\n",
       "      <th>2</th>\n",
       "      <td>2</td>\n",
       "      <td>1077</td>\n",
       "      <td>60</td>\n",
       "      <td>Some major design flaws</td>\n",
       "      <td>I had such high hopes for this dress and reall...</td>\n",
       "      <td>3</td>\n",
       "      <td>0</td>\n",
       "      <td>0</td>\n",
       "      <td>General</td>\n",
       "      <td>Dresses</td>\n",
       "      <td>Dresses</td>\n",
       "      <td>0.073675</td>\n",
       "    </tr>\n",
       "    <tr>\n",
       "      <th>3</th>\n",
       "      <td>3</td>\n",
       "      <td>1049</td>\n",
       "      <td>50</td>\n",
       "      <td>My favorite buy!</td>\n",
       "      <td>I love, love, love this jumpsuit. it's fun, fl...</td>\n",
       "      <td>5</td>\n",
       "      <td>1</td>\n",
       "      <td>0</td>\n",
       "      <td>General Petite</td>\n",
       "      <td>Bottoms</td>\n",
       "      <td>Pants</td>\n",
       "      <td>0.550000</td>\n",
       "    </tr>\n",
       "    <tr>\n",
       "      <th>4</th>\n",
       "      <td>4</td>\n",
       "      <td>847</td>\n",
       "      <td>47</td>\n",
       "      <td>Flattering shirt</td>\n",
       "      <td>This shirt is very flattering to all due to th...</td>\n",
       "      <td>5</td>\n",
       "      <td>1</td>\n",
       "      <td>6</td>\n",
       "      <td>General</td>\n",
       "      <td>Tops</td>\n",
       "      <td>Blouses</td>\n",
       "      <td>0.512891</td>\n",
       "    </tr>\n",
       "  </tbody>\n",
       "</table>\n",
       "</div>"
      ],
      "text/plain": [
       "   Unnamed: 0  Clothing ID  Age                    Title  \\\n",
       "0           0          767   33                      NaN   \n",
       "1           1         1080   34                      NaN   \n",
       "2           2         1077   60  Some major design flaws   \n",
       "3           3         1049   50         My favorite buy!   \n",
       "4           4          847   47         Flattering shirt   \n",
       "\n",
       "                                         Review Text  Rating  Recommended  \\\n",
       "0  Absolutely wonderful - silky and sexy and comf...       4            1   \n",
       "1  Love this dress!  it's sooo pretty.  i happene...       5            1   \n",
       "2  I had such high hopes for this dress and reall...       3            0   \n",
       "3  I love, love, love this jumpsuit. it's fun, fl...       5            1   \n",
       "4  This shirt is very flattering to all due to th...       5            1   \n",
       "\n",
       "   Positive Feedback Count   Division Name Department Name Class Name  \\\n",
       "0                        0       Initmates        Intimate  Intimates   \n",
       "1                        4         General         Dresses    Dresses   \n",
       "2                        0         General         Dresses    Dresses   \n",
       "3                        0  General Petite         Bottoms      Pants   \n",
       "4                        6         General            Tops    Blouses   \n",
       "\n",
       "   polarity  \n",
       "0  0.633333  \n",
       "1  0.339583  \n",
       "2  0.073675  \n",
       "3  0.550000  \n",
       "4  0.512891  "
      ]
     },
     "execution_count": 20,
     "metadata": {},
     "output_type": "execute_result"
    }
   ],
   "source": [
    "df.rename(columns = {'Recommended IND': 'Recommended'}, inplace= True)\n",
    "df['polarity'] = df['Review Text'].apply(lambda x: TextBlob(x).sentiment.polarity)\n",
    "df.head()"
   ]
  },
  {
   "cell_type": "code",
   "execution_count": 24,
   "id": "653818cf",
   "metadata": {},
   "outputs": [
    {
     "data": {
      "image/png": "[encoded data removed]",
      "text/plain": [
       "<Figure size 576x432 with 1 Axes>"
      ]
     },
     "metadata": {},
     "output_type": "display_data"
    }
   ],
   "source": [
    "## TextBlob EDA\n",
    "\n",
    "fig, ax = plt.subplots(figsize= (8,6))\n",
    "sns.distplot(df.polarity[df.Recommended ==0], color ='tab:blue', label= 'Not Recommended').set_title(\"Polarity distribution of Reviews based on TextBlob\",fontdict= { 'fontsize': 15, 'fontweight':'bold'} )\n",
    "sns.distplot(df.polarity[df.Recommended ==1], color ='yellow', label = 'Recommended')\n",
    "#sns.set(font_scale=1.2)\n",
    "plt.legend(loc= 'upper left')\n",
    "plt.savefig('images/polarity-rec0.png', dpi=300)"
   ]
  },
  {
   "cell_type": "code",
   "execution_count": null,
   "id": "495e8e20",
   "metadata": {},
   "outputs": [],
   "source": [
    "## The plot above shows the two distributions of recommended and not recommended are very close to eachother.\n",
    "# The threshold of "
   ]
  },
  {
   "cell_type": "code",
   "execution_count": 1,
   "id": "63216810",
   "metadata": {},
   "outputs": [],
   "source": [
    "def model_predictions(model_name, X_train,y_train,X_test, y_test):\n",
    "    \n",
    "    model = model_name\n",
    "    model.fit(X_train, y_train)\n",
    "    \n",
    "    print(model_name)\n",
    "    acc = cross_val_score(model, X_train, y_train, scoring = \"accuracy\", cv = 5)\n",
    "    predictions = cross_val_predict(model, X_test, y_test, cv = 5)\n",
    "    print(\"Accuracy:\", round(acc.mean(),3))\n",
    "    cm = confusion_matrix(y_test, predictions)\n",
    "    print(\"Confusion Matrix:  \\n\", cm)\n",
    "    print(\"Classification Report \\n\", classification_report( y_test, predictions))\n",
    "    print('average percision score', average_precision_score(y_test, predictions, average= 'weighted'))"
   ]
  },
  {
   "cell_type": "markdown",
   "id": "6178ccf3",
   "metadata": {},
   "source": [
    "## Customized Stop-Words and text cleaning:"
   ]
  },
  {
   "cell_type": "code",
   "execution_count": 4,
   "id": "e7c69ff7",
   "metadata": {},
   "outputs": [],
   "source": [
    "punct = set(string.punctuation)\n",
    "\n",
    "ps = PorterStemmer()\n",
    "\n",
    "remove_sw_list=['not', 'no']\n",
    "sw = [i for i in stopwords.words('english') if i not in remove_sw_list]\n",
    "\n",
    "def text_prep_stop_stem(text):\n",
    "    #clean text\n",
    "    text = re.sub(r\"n't\", \" not \", text)\n",
    "    text = re.sub(r\"\\'s\", \" \", text)\n",
    "    text = re.sub(r\"\\'ve\", \" have \", text)\n",
    "    text = re.sub(r\"\\'re\", \" are \", text)\n",
    "    text = re.sub(r\"\\'d\", \" would \", text)\n",
    "    text = re.sub(r\"\\'ll\", \" will \", text)\n",
    "    \n",
    "    #remove non-letters and lower case\n",
    "    text = re.sub('[^a-z\\s]', '', text.lower())\n",
    "    \n",
    "    #return text\n",
    "    #remove punctuation        \n",
    "    punc_removed = [char for char in text if char not in punct]\n",
    "    punc_removed = ''.join(punc_removed)\n",
    "    \n",
    "    #stem and remove stop words\n",
    "    return \" \".join([ps.stem(word) for word in punc_removed.split() if not word in sw])\n",
    "    #return [word for word in punc_removed.split() if not word in sw]"
   ]
  },
  {
   "cell_type": "markdown",
   "id": "c33c342c",
   "metadata": {},
   "source": [
    "## Count Vectorizer with no text pre-processing:"
   ]
  },
  {
   "cell_type": "code",
   "execution_count": 6,
   "id": "1943a415",
   "metadata": {},
   "outputs": [],
   "source": [
    "#CountVectorizer Without pre-preocessing\n",
    "cv = CountVectorizer(binary = True, stop_words= None, ngram_range=(1,1))\n",
    "cv.fit_transform(X_train)\n",
    "train_feature_set = cv.transform(X_train)\n",
    "test_feature_set = cv.transform(X_test)"
   ]
  },
  {
   "cell_type": "code",
   "execution_count": 7,
   "id": "57386456",
   "metadata": {},
   "outputs": [
    {
     "name": "stdout",
     "output_type": "stream",
     "text": [
      "LogisticRegression(class_weight='balanced')\n",
      "Accuracy: 0.869\n",
      "Confusion Matrix:  \n",
      " [[ 895  335]\n",
      " [ 545 5018]]\n",
      "Classification Report \n",
      "               precision    recall  f1-score   support\n",
      "\n",
      "           0       0.62      0.73      0.67      1230\n",
      "           1       0.94      0.90      0.92      5563\n",
      "\n",
      "    accuracy                           0.87      6793\n",
      "   macro avg       0.78      0.81      0.79      6793\n",
      "weighted avg       0.88      0.87      0.87      6793\n",
      "\n",
      "average percision score 0.9258102484740472\n"
     ]
    }
   ],
   "source": [
    "# Logistic \n",
    "lr = LogisticRegression(class_weight= 'balanced')\n",
    "model_predictions(lr,train_feature_set,y_train, test_feature_set, y_test)\n"
   ]
  },
  {
   "cell_type": "code",
   "execution_count": 28,
   "id": "c80ec75a",
   "metadata": {},
   "outputs": [
    {
     "name": "stdout",
     "output_type": "stream",
     "text": [
      "RandomForestClassifier(class_weight='balanced')\n",
      "Accuracy: 0.842\n",
      "Confusion Matrix:  \n",
      " [[ 132 1098]\n",
      " [  12 5551]]\n",
      "Classification Report \n",
      "               precision    recall  f1-score   support\n",
      "\n",
      "           0       0.92      0.11      0.19      1230\n",
      "           1       0.83      1.00      0.91      5563\n",
      "\n",
      "    accuracy                           0.84      6793\n",
      "   macro avg       0.88      0.55      0.55      6793\n",
      "weighted avg       0.85      0.84      0.78      6793\n",
      "\n",
      "average percision score 0.8348280201241333\n"
     ]
    }
   ],
   "source": [
    "# RF\n",
    "rf = RandomForestClassifier(class_weight= 'balanced')\n",
    "model_predictions(rf,train_feature_set,y_train, test_feature_set, y_test)\n"
   ]
  },
  {
   "cell_type": "code",
   "execution_count": 21,
   "id": "3c6b9c16",
   "metadata": {},
   "outputs": [
    {
     "name": "stdout",
     "output_type": "stream",
     "text": [
      "GaussianNB()\n",
      "Accuracy: 0.503\n",
      "Confusion Matrix:  \n",
      " [[ 624  606]\n",
      " [2114 3449]]\n",
      "Classification Report \n",
      "               precision    recall  f1-score   support\n",
      "\n",
      "           0       0.23      0.51      0.31      1230\n",
      "           1       0.85      0.62      0.72      5563\n",
      "\n",
      "    accuracy                           0.60      6793\n",
      "   macro avg       0.54      0.56      0.52      6793\n",
      "weighted avg       0.74      0.60      0.64      6793\n",
      "\n",
      "average percision score 0.8385375546995765\n"
     ]
    }
   ],
   "source": [
    "# Gaussian Naieve Bayes\n",
    "gnb = GaussianNB()\n",
    "model_predictions(gnb,train_feature_set.toarray(),y_train, test_feature_set.toarray(), y_test)"
   ]
  },
  {
   "cell_type": "code",
   "execution_count": 8,
   "id": "e5fa598a",
   "metadata": {},
   "outputs": [
    {
     "name": "stdout",
     "output_type": "stream",
     "text": [
      "[17:55:22] WARNING: /Users/travis/build/dmlc/xgboost/src/learner.cc:1095: Starting in XGBoost 1.3.0, the default evaluation metric used with the objective 'binary:logistic' was changed from 'error' to 'logloss'. Explicitly set eval_metric if you'd like to restore the old behavior.\n",
      "XGBClassifier(base_score=0.5, booster='gbtree', colsample_bylevel=1,\n",
      "              colsample_bynode=1, colsample_bytree=1, gamma=0, gpu_id=-1,\n",
      "              importance_type='gain', interaction_constraints='',\n",
      "              learning_rate=0.300000012, max_delta_step=0, max_depth=6,\n",
      "              min_child_weight=1, missing=nan, monotone_constraints='()',\n",
      "              n_estimators=100, n_jobs=4, num_parallel_tree=1, random_state=0,\n",
      "              reg_alpha=0, reg_lambda=1, scale_pos_weight=1, subsample=1,\n",
      "              tree_method='exact', validate_parameters=1, verbosity=None)\n",
      "[18:02:52] WARNING: /Users/travis/build/dmlc/xgboost/src/learner.cc:1095: Starting in XGBoost 1.3.0, the default evaluation metric used with the objective 'binary:logistic' was changed from 'error' to 'logloss'. Explicitly set eval_metric if you'd like to restore the old behavior.\n",
      "[18:08:47] WARNING: /Users/travis/build/dmlc/xgboost/src/learner.cc:1095: Starting in XGBoost 1.3.0, the default evaluation metric used with the objective 'binary:logistic' was changed from 'error' to 'logloss'. Explicitly set eval_metric if you'd like to restore the old behavior.\n",
      "[18:14:41] WARNING: /Users/travis/build/dmlc/xgboost/src/learner.cc:1095: Starting in XGBoost 1.3.0, the default evaluation metric used with the objective 'binary:logistic' was changed from 'error' to 'logloss'. Explicitly set eval_metric if you'd like to restore the old behavior.\n",
      "[18:20:33] WARNING: /Users/travis/build/dmlc/xgboost/src/learner.cc:1095: Starting in XGBoost 1.3.0, the default evaluation metric used with the objective 'binary:logistic' was changed from 'error' to 'logloss'. Explicitly set eval_metric if you'd like to restore the old behavior.\n",
      "[18:37:40] WARNING: /Users/travis/build/dmlc/xgboost/src/learner.cc:1095: Starting in XGBoost 1.3.0, the default evaluation metric used with the objective 'binary:logistic' was changed from 'error' to 'logloss'. Explicitly set eval_metric if you'd like to restore the old behavior.\n",
      "[18:46:46] WARNING: /Users/travis/build/dmlc/xgboost/src/learner.cc:1095: Starting in XGBoost 1.3.0, the default evaluation metric used with the objective 'binary:logistic' was changed from 'error' to 'logloss'. Explicitly set eval_metric if you'd like to restore the old behavior.\n",
      "[18:49:20] WARNING: /Users/travis/build/dmlc/xgboost/src/learner.cc:1095: Starting in XGBoost 1.3.0, the default evaluation metric used with the objective 'binary:logistic' was changed from 'error' to 'logloss'. Explicitly set eval_metric if you'd like to restore the old behavior.\n",
      "[18:51:54] WARNING: /Users/travis/build/dmlc/xgboost/src/learner.cc:1095: Starting in XGBoost 1.3.0, the default evaluation metric used with the objective 'binary:logistic' was changed from 'error' to 'logloss'. Explicitly set eval_metric if you'd like to restore the old behavior.\n",
      "[18:54:26] WARNING: /Users/travis/build/dmlc/xgboost/src/learner.cc:1095: Starting in XGBoost 1.3.0, the default evaluation metric used with the objective 'binary:logistic' was changed from 'error' to 'logloss'. Explicitly set eval_metric if you'd like to restore the old behavior.\n",
      "[18:56:58] WARNING: /Users/travis/build/dmlc/xgboost/src/learner.cc:1095: Starting in XGBoost 1.3.0, the default evaluation metric used with the objective 'binary:logistic' was changed from 'error' to 'logloss'. Explicitly set eval_metric if you'd like to restore the old behavior.\n",
      "Accuracy: 0.879\n",
      "Confusion Matrix:  \n",
      " [[ 636  594]\n",
      " [ 213 5350]]\n",
      "Classification Report \n",
      "               precision    recall  f1-score   support\n",
      "\n",
      "           0       0.75      0.52      0.61      1230\n",
      "           1       0.90      0.96      0.93      5563\n",
      "\n",
      "    accuracy                           0.88      6793\n",
      "   macro avg       0.82      0.74      0.77      6793\n",
      "weighted avg       0.87      0.88      0.87      6793\n",
      "\n",
      "average percision score 0.8969607017357221\n"
     ]
    }
   ],
   "source": [
    "## XG Boost\n",
    "xgb = XGBClassifier()\n",
    "model_predictions(xgb,train_feature_set.toarray(),y_train, test_feature_set.toarray(), y_test)"
   ]
  },
  {
   "cell_type": "markdown",
   "id": "e54d1079",
   "metadata": {},
   "source": [
    "#### Logistic Regression has the best results"
   ]
  },
  {
   "cell_type": "markdown",
   "id": "5b79b5f1",
   "metadata": {},
   "source": [
    "## Count vectorizer with Pre-Processed text"
   ]
  },
  {
   "cell_type": "code",
   "execution_count": 9,
   "id": "6bb04951",
   "metadata": {},
   "outputs": [
    {
     "data": {
      "text/plain": [
       "'order carbon store pick ton stuff alway tri use top pair skirt pant everyth went color realli nice charcoal shimmer went well pencil skirt flare pant etc compaint bit big sleev long not go petit also bit loos no xx kept wil ldecid later sinc light color alreadi sold hte smallest size'"
      ]
     },
     "execution_count": 9,
     "metadata": {},
     "output_type": "execute_result"
    }
   ],
   "source": [
    "# Cleaning text\n",
    "clean_X = X.apply(lambda x: text_prep_stop_stem(x))\n",
    "#join_clean_X = clean_X.apply(lambda x: ' '.join(x))\n",
    "X_train, X_test, y_train, y_test = train_test_split(clean_X , y , stratify =y , test_size = 0.3)\n",
    "# Sample\n",
    "clean_X[7]"
   ]
  },
  {
   "cell_type": "code",
   "execution_count": 22,
   "id": "70207021",
   "metadata": {},
   "outputs": [
    {
     "name": "stdout",
     "output_type": "stream",
     "text": [
      "Time takes to convert text input into feature vector:  0.05  mins\n"
     ]
    }
   ],
   "source": [
    "# create countvectorizer:\n",
    "start_time = time.time()\n",
    "\n",
    "cv = CountVectorizer(binary = True, stop_words= sw, ngram_range=(1,2) ,min_df = 5, max_df = 0.95)\n",
    "cv.fit_transform(X_train)\n",
    "train_feature_set = cv.transform(X_train)\n",
    "test_feature_set = cv.transform(X_test)\n",
    "\n",
    "print(\"Time takes to convert text input into feature vector: \", round((time.time() - start_time)/60, 2), \" mins\")"
   ]
  },
  {
   "cell_type": "code",
   "execution_count": 23,
   "id": "637fe0f0",
   "metadata": {},
   "outputs": [
    {
     "name": "stdout",
     "output_type": "stream",
     "text": [
      "LogisticRegression(class_weight='balanced')\n",
      "Accuracy: 0.887\n",
      "Confusion Matrix:  \n",
      " [[ 875  355]\n",
      " [ 424 5139]]\n",
      "Classification Report \n",
      "               precision    recall  f1-score   support\n",
      "\n",
      "           0       0.67      0.71      0.69      1230\n",
      "           1       0.94      0.92      0.93      5563\n",
      "\n",
      "    accuracy                           0.89      6793\n",
      "   macro avg       0.80      0.82      0.81      6793\n",
      "weighted avg       0.89      0.89      0.89      6793\n",
      "\n",
      "average percision score 0.9265082709917446\n"
     ]
    }
   ],
   "source": [
    "lr = LogisticRegression(class_weight= 'balanced')\n",
    "model_predictions(lr,train_feature_set,y_train, test_feature_set, y_test)"
   ]
  },
  {
   "cell_type": "code",
   "execution_count": 25,
   "id": "863fdd10",
   "metadata": {},
   "outputs": [
    {
     "name": "stdout",
     "output_type": "stream",
     "text": [
      "RandomForestClassifier(class_weight='balanced')\n",
      "Accuracy: 0.871\n",
      "Confusion Matrix:  \n",
      " [[ 383  847]\n",
      " [  62 5501]]\n",
      "Classification Report \n",
      "               precision    recall  f1-score   support\n",
      "\n",
      "           0       0.86      0.31      0.46      1230\n",
      "           1       0.87      0.99      0.92      5563\n",
      "\n",
      "    accuracy                           0.87      6793\n",
      "   macro avg       0.86      0.65      0.69      6793\n",
      "weighted avg       0.87      0.87      0.84      6793\n",
      "\n",
      "average percision score 0.8660411877970953\n"
     ]
    }
   ],
   "source": [
    "# RF\n",
    "rf = RandomForestClassifier(class_weight= 'balanced')\n",
    "model_predictions(rf,train_feature_set,y_train, test_feature_set, y_test)"
   ]
  },
  {
   "cell_type": "code",
   "execution_count": 26,
   "id": "80352072",
   "metadata": {},
   "outputs": [
    {
     "name": "stdout",
     "output_type": "stream",
     "text": [
      "GaussianNB()\n",
      "Accuracy: 0.803\n",
      "Confusion Matrix:  \n",
      " [[ 232  998]\n",
      " [ 213 5350]]\n",
      "Classification Report \n",
      "               precision    recall  f1-score   support\n",
      "\n",
      "           0       0.52      0.19      0.28      1230\n",
      "           1       0.84      0.96      0.90      5563\n",
      "\n",
      "    accuracy                           0.82      6793\n",
      "   macro avg       0.68      0.58      0.59      6793\n",
      "weighted avg       0.78      0.82      0.79      6793\n",
      "\n",
      "average percision score 0.841871795420048\n"
     ]
    }
   ],
   "source": [
    "# NB\n",
    "gnb = GaussianNB()\n",
    "model_predictions(gnb,train_feature_set.toarray(),y_train, test_feature_set.toarray(), y_test)"
   ]
  },
  {
   "cell_type": "code",
   "execution_count": 65,
   "id": "3f6b46ba",
   "metadata": {},
   "outputs": [
    {
     "name": "stdout",
     "output_type": "stream",
     "text": [
      "X.shape: (22641,) \t y_shape: (22641, 1)\n",
      "train_test_split: (15848,) (6793,) \t (15848, 1) (6793, 1)\n"
     ]
    }
   ],
   "source": [
    "X = df['Review Text']\n",
    "y= df[\"Recommended IND\"].values.reshape(-1,1)\n",
    "print(\"X.shape:\", X.shape, '\\t y_shape:', y.shape)\n",
    "\n",
    "\n",
    "X_train, X_test, y_train, y_test = train_test_split(X , y , stratify =y , test_size = 0.3, random_state= 100)\n",
    "print('train_test_split:',X_train.shape , X_test.shape,'\\t', y_train.shape, y_test.shape)"
   ]
  },
  {
   "cell_type": "code",
   "execution_count": 271,
   "id": "c655c15f",
   "metadata": {},
   "outputs": [
    {
     "data": {
      "image/png": "[encoded data removed]",
      "text/plain": [
       "<Figure size 576x396 with 1 Axes>"
      ]
     },
     "metadata": {},
     "output_type": "display_data"
    },
    {
     "data": {
      "text/plain": [
       "<AxesSubplot:title={'center':'Precision-Recall Curve for LogisticRegression'}, xlabel='Recall', ylabel='Precision'>"
      ]
     },
     "execution_count": 271,
     "metadata": {},
     "output_type": "execute_result"
    }
   ],
   "source": [
    "from yellowbrick.classifier import PrecisionRecallCurve\n",
    "\n",
    "viz = PrecisionRecallCurve(\n",
    "    lr,\n",
    "    per_class=True,\n",
    "    \n",
    ")\n",
    "viz.fit(train_feature_set, y_train)\n",
    "viz.score(test_feature_set, y_test)\n",
    "viz.show()"
   ]
  },
  {
   "cell_type": "code",
   "execution_count": 277,
   "id": "dd0906ed",
   "metadata": {},
   "outputs": [
    {
     "data": {
      "image/png": "[encoded data removed]",
      "text/plain": [
       "<Figure size 576x396 with 1 Axes>"
      ]
     },
     "metadata": {},
     "output_type": "display_data"
    },
    {
     "data": {
      "text/plain": [
       "<AxesSubplot:title={'center':'ROC Curves for LogisticRegression'}, xlabel='False Positive Rate', ylabel='True Positive Rate'>"
      ]
     },
     "execution_count": 277,
     "metadata": {},
     "output_type": "execute_result"
    }
   ],
   "source": [
    "from yellowbrick.classifier import ROCAUC\n",
    "\n",
    "model = lr\n",
    "viz = ROCAUC(model)\n",
    "\n",
    "viz.fit(train_feature_set, y_train)\n",
    "viz.score(test_feature_set, y_test)\n",
    "viz.show()"
   ]
  },
  {
   "cell_type": "code",
   "execution_count": null,
   "id": "626449f0",
   "metadata": {},
   "outputs": [],
   "source": [
    "## Checking best threshold for LR model"
   ]
  },
  {
   "cell_type": "code",
   "execution_count": 248,
   "id": "4b582132",
   "metadata": {},
   "outputs": [
    {
     "name": "stdout",
     "output_type": "stream",
     "text": [
      "LogisticRegression()\n",
      "Accuracy: 0.883\n",
      "Confusion Matrix:  \n",
      " [[ 700  530]\n",
      " [ 250 5313]]\n",
      "Classification Report \n",
      "               precision    recall  f1-score   support\n",
      "\n",
      "           0       0.74      0.57      0.64      1230\n",
      "           1       0.91      0.96      0.93      5563\n",
      "\n",
      "    accuracy                           0.89      6793\n",
      "   macro avg       0.82      0.76      0.79      6793\n",
      "weighted avg       0.88      0.89      0.88      6793\n",
      "\n"
     ]
    }
   ],
   "source": [
    "# logistic regresion\n",
    "lr = LogisticRegression()\n",
    "model_predictions(lr,train_feature_set,y_train, test_feature_set, y_test)"
   ]
  },
  {
   "cell_type": "code",
   "execution_count": 238,
   "id": "7c0caa1c",
   "metadata": {},
   "outputs": [
    {
     "name": "stdout",
     "output_type": "stream",
     "text": [
      "\n",
      "******** For i = 0.3 ******\n",
      "F1: 0.932\n",
      "\n",
      "******** For i = 0.4 ******\n",
      "F1: 0.933\n",
      "\n",
      "******** For i = 0.45 ******\n",
      "F1: 0.933\n",
      "\n",
      "******** For i = 0.5 ******\n",
      "F1: 0.934\n",
      "\n",
      "******** For i = 0.51 ******\n",
      "F1: 0.933\n",
      "\n",
      "******** For i = 0.6 ******\n",
      "F1: 0.933\n"
     ]
    }
   ],
   "source": [
    "pred_proba_df = pd.DataFrame(lr.predict_proba(test_feature_set))\n",
    "threshold_list = [0.3,0.4,0.45,0.5, 0.51, 0.6]\n",
    "for i in threshold_list:\n",
    "    print ('\\n******** For i = {} ******'.format(i))\n",
    "    y_test_pred = pred_proba_df.applymap(lambda x: 1 if x>i else 0)\n",
    "    test_f1 = round(f1_score(y_test, y_test_pred.loc[:,1].values),3)\n",
    "    print('F1: {}'.format(test_f1))"
   ]
  },
  {
   "cell_type": "markdown",
   "id": "2e67f137",
   "metadata": {},
   "source": [
    "## TF-IDF with No pre-processed text"
   ]
  },
  {
   "cell_type": "code",
   "execution_count": 29,
   "id": "02ff41dc",
   "metadata": {},
   "outputs": [
    {
     "name": "stdout",
     "output_type": "stream",
     "text": [
      "X.shape: (22641,) \t y_shape: (22641, 1)\n",
      "train_test_split: (15848,) (6793,) \t (15848, 1) (6793, 1)\n"
     ]
    }
   ],
   "source": [
    "X = df['Review Text']\n",
    "y= df[\"Recommended IND\"].values.reshape(-1,1)\n",
    "print(\"X.shape:\", X.shape, '\\t y_shape:', y.shape)\n",
    "\n",
    "\n",
    "X_train, X_test, y_train, y_test = train_test_split(X , y , stratify =y , test_size = 0.3, random_state= 100)\n",
    "print('train_test_split:',X_train.shape , X_test.shape,'\\t', y_train.shape, y_test.shape)"
   ]
  },
  {
   "cell_type": "code",
   "execution_count": 10,
   "id": "a13899ea",
   "metadata": {},
   "outputs": [],
   "source": [
    "# create tfidf vectorizer:\n",
    "\n",
    "tv = TfidfVectorizer(ngram_range=(1,1))\n",
    "tv.fit_transform(X_train)\n",
    "train_feature_set = tv.transform(X_train)\n",
    "test_feature_set = tv.transform(X_test)\n"
   ]
  },
  {
   "cell_type": "code",
   "execution_count": 32,
   "id": "514cb924",
   "metadata": {},
   "outputs": [
    {
     "name": "stdout",
     "output_type": "stream",
     "text": [
      "LogisticRegression(class_weight='balanced')\n",
      "Accuracy: 0.871\n",
      "Confusion Matrix:  \n",
      " [[1013  217]\n",
      " [ 653 4910]]\n",
      "Classification Report \n",
      "               precision    recall  f1-score   support\n",
      "\n",
      "           0       0.61      0.82      0.70      1230\n",
      "           1       0.96      0.88      0.92      5563\n",
      "\n",
      "    accuracy                           0.87      6793\n",
      "   macro avg       0.78      0.85      0.81      6793\n",
      "weighted avg       0.89      0.87      0.88      6793\n",
      "\n",
      "average percision score 0.9413889306872275\n"
     ]
    }
   ],
   "source": [
    "# logistic regression:\n",
    "lr = LogisticRegression(class_weight = 'balanced')\n",
    "model_predictions(lr,train_feature_set,y_train, test_feature_set, y_test)"
   ]
  },
  {
   "cell_type": "code",
   "execution_count": 31,
   "id": "6d14d161",
   "metadata": {},
   "outputs": [
    {
     "name": "stdout",
     "output_type": "stream",
     "text": [
      "RandomForestClassifier(class_weight='balanced')\n",
      "Accuracy: 0.839\n",
      "Confusion Matrix:  \n",
      " [[ 131 1099]\n",
      " [  19 5544]]\n",
      "Classification Report \n",
      "               precision    recall  f1-score   support\n",
      "\n",
      "           0       0.87      0.11      0.19      1230\n",
      "           1       0.83      1.00      0.91      5563\n",
      "\n",
      "    accuracy                           0.84      6793\n",
      "   macro avg       0.85      0.55      0.55      6793\n",
      "weighted avg       0.84      0.84      0.78      6793\n",
      "\n",
      "average percision score 0.8345093095750467\n"
     ]
    }
   ],
   "source": [
    "# Random Forest:\n",
    "rf = RandomForestClassifier(class_weight = 'balanced')\n",
    "model_predictions(rf,train_feature_set,y_train, test_feature_set, y_test)"
   ]
  },
  {
   "cell_type": "code",
   "execution_count": 33,
   "id": "1acdf912",
   "metadata": {},
   "outputs": [
    {
     "name": "stdout",
     "output_type": "stream",
     "text": [
      "GaussianNB()\n",
      "Accuracy: 0.503\n",
      "Confusion Matrix:  \n",
      " [[ 608  622]\n",
      " [2100 3463]]\n",
      "Classification Report \n",
      "               precision    recall  f1-score   support\n",
      "\n",
      "           0       0.22      0.49      0.31      1230\n",
      "           1       0.85      0.62      0.72      5563\n",
      "\n",
      "    accuracy                           0.60      6793\n",
      "   macro avg       0.54      0.56      0.51      6793\n",
      "weighted avg       0.73      0.60      0.64      6793\n",
      "\n",
      "average percision score 0.8368621384736372\n"
     ]
    }
   ],
   "source": [
    "# Naive Bayes:\n",
    "gnb = GaussianNB()\n",
    "model_predictions(gnb,train_feature_set.toarray(),y_train, test_feature_set.toarray(), y_test)"
   ]
  },
  {
   "cell_type": "code",
   "execution_count": 11,
   "id": "01c7bebf",
   "metadata": {},
   "outputs": [
    {
     "name": "stdout",
     "output_type": "stream",
     "text": [
      "[19:41:10] WARNING: /Users/travis/build/dmlc/xgboost/src/learner.cc:1095: Starting in XGBoost 1.3.0, the default evaluation metric used with the objective 'binary:logistic' was changed from 'error' to 'logloss'. Explicitly set eval_metric if you'd like to restore the old behavior.\n",
      "XGBClassifier(base_score=0.5, booster='gbtree', colsample_bylevel=1,\n",
      "              colsample_bynode=1, colsample_bytree=1, gamma=0, gpu_id=-1,\n",
      "              importance_type='gain', interaction_constraints='',\n",
      "              learning_rate=0.300000012, max_delta_step=0, max_depth=6,\n",
      "              min_child_weight=1, missing=nan, monotone_constraints='()',\n",
      "              n_estimators=100, n_jobs=4, num_parallel_tree=1, random_state=0,\n",
      "              reg_alpha=0, reg_lambda=1, scale_pos_weight=1, subsample=1,\n",
      "              tree_method='exact', validate_parameters=1, verbosity=None)\n",
      "[19:48:48] WARNING: /Users/travis/build/dmlc/xgboost/src/learner.cc:1095: Starting in XGBoost 1.3.0, the default evaluation metric used with the objective 'binary:logistic' was changed from 'error' to 'logloss'. Explicitly set eval_metric if you'd like to restore the old behavior.\n",
      "[19:54:57] WARNING: /Users/travis/build/dmlc/xgboost/src/learner.cc:1095: Starting in XGBoost 1.3.0, the default evaluation metric used with the objective 'binary:logistic' was changed from 'error' to 'logloss'. Explicitly set eval_metric if you'd like to restore the old behavior.\n",
      "[20:01:08] WARNING: /Users/travis/build/dmlc/xgboost/src/learner.cc:1095: Starting in XGBoost 1.3.0, the default evaluation metric used with the objective 'binary:logistic' was changed from 'error' to 'logloss'. Explicitly set eval_metric if you'd like to restore the old behavior.\n",
      "[20:07:50] WARNING: /Users/travis/build/dmlc/xgboost/src/learner.cc:1095: Starting in XGBoost 1.3.0, the default evaluation metric used with the objective 'binary:logistic' was changed from 'error' to 'logloss'. Explicitly set eval_metric if you'd like to restore the old behavior.\n",
      "[20:14:41] WARNING: /Users/travis/build/dmlc/xgboost/src/learner.cc:1095: Starting in XGBoost 1.3.0, the default evaluation metric used with the objective 'binary:logistic' was changed from 'error' to 'logloss'. Explicitly set eval_metric if you'd like to restore the old behavior.\n",
      "[20:21:24] WARNING: /Users/travis/build/dmlc/xgboost/src/learner.cc:1095: Starting in XGBoost 1.3.0, the default evaluation metric used with the objective 'binary:logistic' was changed from 'error' to 'logloss'. Explicitly set eval_metric if you'd like to restore the old behavior.\n",
      "[20:24:03] WARNING: /Users/travis/build/dmlc/xgboost/src/learner.cc:1095: Starting in XGBoost 1.3.0, the default evaluation metric used with the objective 'binary:logistic' was changed from 'error' to 'logloss'. Explicitly set eval_metric if you'd like to restore the old behavior.\n",
      "[20:26:42] WARNING: /Users/travis/build/dmlc/xgboost/src/learner.cc:1095: Starting in XGBoost 1.3.0, the default evaluation metric used with the objective 'binary:logistic' was changed from 'error' to 'logloss'. Explicitly set eval_metric if you'd like to restore the old behavior.\n",
      "[20:29:25] WARNING: /Users/travis/build/dmlc/xgboost/src/learner.cc:1095: Starting in XGBoost 1.3.0, the default evaluation metric used with the objective 'binary:logistic' was changed from 'error' to 'logloss'. Explicitly set eval_metric if you'd like to restore the old behavior.\n",
      "[20:32:02] WARNING: /Users/travis/build/dmlc/xgboost/src/learner.cc:1095: Starting in XGBoost 1.3.0, the default evaluation metric used with the objective 'binary:logistic' was changed from 'error' to 'logloss'. Explicitly set eval_metric if you'd like to restore the old behavior.\n",
      "Accuracy: 0.877\n",
      "Confusion Matrix:  \n",
      " [[ 601  629]\n",
      " [ 217 5346]]\n",
      "Classification Report \n",
      "               precision    recall  f1-score   support\n",
      "\n",
      "           0       0.73      0.49      0.59      1230\n",
      "           1       0.89      0.96      0.93      5563\n",
      "\n",
      "    accuracy                           0.88      6793\n",
      "   macro avg       0.81      0.72      0.76      6793\n",
      "weighted avg       0.87      0.88      0.87      6793\n",
      "\n",
      "average percision score 0.8917713731430108\n"
     ]
    }
   ],
   "source": [
    "## XG Boost - TFIDF no processing\n",
    "xgb = XGBClassifier()\n",
    "model_predictions(xgb,train_feature_set.toarray(),y_train, test_feature_set.toarray(), y_test)"
   ]
  },
  {
   "cell_type": "markdown",
   "id": "efcab3bd",
   "metadata": {},
   "source": [
    "## TF_IDF With pre-processed text"
   ]
  },
  {
   "cell_type": "code",
   "execution_count": null,
   "id": "a37cce7a",
   "metadata": {},
   "outputs": [],
   "source": [
    "# Cleaning text\n",
    "clean_X = X.apply(lambda x: text_prep_stop_stem(x))\n",
    "#join_clean_X = clean_X.apply(lambda x: ' '.join(x))\n",
    "X_train, X_test, y_train, y_test = train_test_split(clean_X , y , stratify =y , test_size = 0.3)\n",
    "# Sample\n",
    "clean_X[7]"
   ]
  },
  {
   "cell_type": "code",
   "execution_count": 14,
   "id": "39636c50",
   "metadata": {},
   "outputs": [
    {
     "name": "stdout",
     "output_type": "stream",
     "text": [
      "Time takes to convert text input into feature vector:  0.05  mins\n"
     ]
    }
   ],
   "source": [
    "# create tfidf vectorizer:\n",
    "start_time = time.time()\n",
    "\n",
    "tv = TfidfVectorizer(stop_words= sw, ngram_range=(1,2))\n",
    "tv.fit_transform(X_train)\n",
    "train_feature_set = tv.transform(X_train)\n",
    "test_feature_set = tv.transform(X_test)\n",
    "\n",
    "print(\"Time takes to convert text input into feature vector: \", round((time.time() - start_time)/60, 2), \" mins\")"
   ]
  },
  {
   "cell_type": "code",
   "execution_count": 37,
   "id": "77f303f7",
   "metadata": {},
   "outputs": [
    {
     "data": {
      "text/plain": [
       "(15848, 218293)"
      ]
     },
     "execution_count": 37,
     "metadata": {},
     "output_type": "execute_result"
    }
   ],
   "source": [
    "train_feature_set.shape"
   ]
  },
  {
   "cell_type": "code",
   "execution_count": 48,
   "id": "a644e52a",
   "metadata": {},
   "outputs": [
    {
     "name": "stdout",
     "output_type": "stream",
     "text": [
      "LogisticRegression(class_weight='balanced')\n",
      "Accuracy: 0.884\n",
      "Confusion Matrix:  \n",
      " [[ 936  294]\n",
      " [ 546 5017]]\n",
      "Classification Report \n",
      "               precision    recall  f1-score   support\n",
      "\n",
      "           0       0.63      0.76      0.69      1230\n",
      "           1       0.94      0.90      0.92      5563\n",
      "\n",
      "    accuracy                           0.88      6793\n",
      "   macro avg       0.79      0.83      0.81      6793\n",
      "weighted avg       0.89      0.88      0.88      6793\n",
      "\n",
      "average percision score 0.9323047573531593\n"
     ]
    }
   ],
   "source": [
    "lr = LogisticRegression(class_weight = 'balanced')\n",
    "model_predictions(lr,train_feature_set,y_train, test_feature_set, y_test)"
   ]
  },
  {
   "cell_type": "code",
   "execution_count": 49,
   "id": "bd6a6890",
   "metadata": {},
   "outputs": [
    {
     "name": "stdout",
     "output_type": "stream",
     "text": [
      "RandomForestClassifier(class_weight='balanced')\n",
      "Accuracy: 0.847\n",
      "Confusion Matrix:  \n",
      " [[  97 1133]\n",
      " [   4 5559]]\n",
      "Classification Report \n",
      "               precision    recall  f1-score   support\n",
      "\n",
      "           0       0.96      0.08      0.15      1230\n",
      "           1       0.83      1.00      0.91      5563\n",
      "\n",
      "    accuracy                           0.83      6793\n",
      "   macro avg       0.90      0.54      0.53      6793\n",
      "weighted avg       0.85      0.83      0.77      6793\n",
      "\n",
      "average percision score 0.8306849078241282\n"
     ]
    }
   ],
   "source": [
    "rf = RandomForestClassifier(class_weight = 'balanced')\n",
    "model_predictions(rf,train_feature_set,y_train, test_feature_set, y_test)"
   ]
  },
  {
   "cell_type": "code",
   "execution_count": 17,
   "id": "c52b89f4",
   "metadata": {},
   "outputs": [
    {
     "name": "stdout",
     "output_type": "stream",
     "text": [
      "[21:19:25] WARNING: /Users/travis/build/dmlc/xgboost/src/learner.cc:1095: Starting in XGBoost 1.3.0, the default evaluation metric used with the objective 'binary:logistic' was changed from 'error' to 'logloss'. Explicitly set eval_metric if you'd like to restore the old behavior.\n",
      "XGBClassifier(base_score=0.5, booster='gbtree', colsample_bylevel=1,\n",
      "              colsample_bynode=1, colsample_bytree=1, gamma=0, gpu_id=-1,\n",
      "              importance_type='gain', interaction_constraints='',\n",
      "              learning_rate=0.300000012, max_delta_step=0, max_depth=6,\n",
      "              min_child_weight=1, missing=nan, monotone_constraints='()',\n",
      "              n_estimators=100, n_jobs=4, num_parallel_tree=1, random_state=0,\n",
      "              reg_alpha=0, reg_lambda=1, scale_pos_weight=1, subsample=1,\n",
      "              tree_method='exact', validate_parameters=1, verbosity=None)\n",
      "[21:22:40] WARNING: /Users/travis/build/dmlc/xgboost/src/learner.cc:1095: Starting in XGBoost 1.3.0, the default evaluation metric used with the objective 'binary:logistic' was changed from 'error' to 'logloss'. Explicitly set eval_metric if you'd like to restore the old behavior.\n",
      "[21:25:09] WARNING: /Users/travis/build/dmlc/xgboost/src/learner.cc:1095: Starting in XGBoost 1.3.0, the default evaluation metric used with the objective 'binary:logistic' was changed from 'error' to 'logloss'. Explicitly set eval_metric if you'd like to restore the old behavior.\n",
      "[21:27:36] WARNING: /Users/travis/build/dmlc/xgboost/src/learner.cc:1095: Starting in XGBoost 1.3.0, the default evaluation metric used with the objective 'binary:logistic' was changed from 'error' to 'logloss'. Explicitly set eval_metric if you'd like to restore the old behavior.\n",
      "[21:30:05] WARNING: /Users/travis/build/dmlc/xgboost/src/learner.cc:1095: Starting in XGBoost 1.3.0, the default evaluation metric used with the objective 'binary:logistic' was changed from 'error' to 'logloss'. Explicitly set eval_metric if you'd like to restore the old behavior.\n",
      "[21:32:31] WARNING: /Users/travis/build/dmlc/xgboost/src/learner.cc:1095: Starting in XGBoost 1.3.0, the default evaluation metric used with the objective 'binary:logistic' was changed from 'error' to 'logloss'. Explicitly set eval_metric if you'd like to restore the old behavior.\n",
      "[21:34:59] WARNING: /Users/travis/build/dmlc/xgboost/src/learner.cc:1095: Starting in XGBoost 1.3.0, the default evaluation metric used with the objective 'binary:logistic' was changed from 'error' to 'logloss'. Explicitly set eval_metric if you'd like to restore the old behavior.\n",
      "[21:36:14] WARNING: /Users/travis/build/dmlc/xgboost/src/learner.cc:1095: Starting in XGBoost 1.3.0, the default evaluation metric used with the objective 'binary:logistic' was changed from 'error' to 'logloss'. Explicitly set eval_metric if you'd like to restore the old behavior.\n",
      "[21:37:49] WARNING: /Users/travis/build/dmlc/xgboost/src/learner.cc:1095: Starting in XGBoost 1.3.0, the default evaluation metric used with the objective 'binary:logistic' was changed from 'error' to 'logloss'. Explicitly set eval_metric if you'd like to restore the old behavior.\n",
      "[21:40:09] WARNING: /Users/travis/build/dmlc/xgboost/src/learner.cc:1095: Starting in XGBoost 1.3.0, the default evaluation metric used with the objective 'binary:logistic' was changed from 'error' to 'logloss'. Explicitly set eval_metric if you'd like to restore the old behavior.\n",
      "[21:42:51] WARNING: /Users/travis/build/dmlc/xgboost/src/learner.cc:1095: Starting in XGBoost 1.3.0, the default evaluation metric used with the objective 'binary:logistic' was changed from 'error' to 'logloss'. Explicitly set eval_metric if you'd like to restore the old behavior.\n",
      "Accuracy: 0.886\n",
      "Confusion Matrix:  \n",
      " [[ 599  631]\n",
      " [ 202 5361]]\n",
      "Classification Report \n",
      "               precision    recall  f1-score   support\n",
      "\n",
      "           0       0.75      0.49      0.59      1230\n",
      "           1       0.89      0.96      0.93      5563\n",
      "\n",
      "    accuracy                           0.88      6793\n",
      "   macro avg       0.82      0.73      0.76      6793\n",
      "weighted avg       0.87      0.88      0.87      6793\n",
      "\n",
      "average percision score 0.8919419158866774\n"
     ]
    }
   ],
   "source": [
    "## XG Boost\n",
    "xgb = XGBClassifier()\n",
    "model_predictions(xgb,train_feature_set.toarray(),y_train, test_feature_set.toarray(), y_test)"
   ]
  },
  {
   "cell_type": "code",
   "execution_count": 16,
   "id": "d0c0e5aa",
   "metadata": {},
   "outputs": [
    {
     "name": "stdout",
     "output_type": "stream",
     "text": [
      "Time takes to convert text input into feature vector:  0.08  mins\n"
     ]
    }
   ],
   "source": [
    "# create tfidf vectorizer for naive bayes:\n",
    "start_time = time.time()\n",
    "\n",
    "tv = TfidfVectorizer(stop_words= sw, ngram_range=(1,2), max_features= 5000)\n",
    "tv.fit_transform(X_train)\n",
    "train_feature_set = tv.transform(X_train)\n",
    "test_feature_set = tv.transform(X_test)\n",
    "\n",
    "print(\"Time takes to convert text input into feature vector: \", round((time.time() - start_time)/60, 2), \" mins\")"
   ]
  },
  {
   "cell_type": "code",
   "execution_count": 52,
   "id": "05df10ec",
   "metadata": {},
   "outputs": [
    {
     "name": "stdout",
     "output_type": "stream",
     "text": [
      "GaussianNB()\n",
      "Accuracy: 0.63\n",
      "Confusion Matrix:  \n",
      " [[ 530  700]\n",
      " [1010 4553]]\n",
      "Classification Report \n",
      "               precision    recall  f1-score   support\n",
      "\n",
      "           0       0.34      0.43      0.38      1230\n",
      "           1       0.87      0.82      0.84      5563\n",
      "\n",
      "    accuracy                           0.75      6793\n",
      "   macro avg       0.61      0.62      0.61      6793\n",
      "weighted avg       0.77      0.75      0.76      6793\n",
      "\n",
      "average percision score 0.8580623037473633\n"
     ]
    }
   ],
   "source": [
    "# Naive Bayes:\n",
    "gnb = GaussianNB()\n",
    "model_predictions(gnb,train_feature_set.toarray(),y_train, test_feature_set.toarray(), y_test)"
   ]
  },
  {
   "cell_type": "markdown",
   "id": "4a666ae7",
   "metadata": {},
   "source": [
    "## Best Model Visualization\n",
    "### Best model = logistic regression with TF-IDF and no text processing!"
   ]
  },
  {
   "cell_type": "code",
   "execution_count": 89,
   "id": "dd1e68e8",
   "metadata": {},
   "outputs": [
    {
     "name": "stdout",
     "output_type": "stream",
     "text": [
      "X.shape: (22641,) \t y_shape: (22641, 1)\n",
      "train_test_split: (15848,) (6793,) \t (15848, 1) (6793, 1)\n"
     ]
    }
   ],
   "source": [
    "X = df['Review Text']\n",
    "y= df[\"Recommended IND\"].values.reshape(-1,1)\n",
    "print(\"X.shape:\", X.shape, '\\t y_shape:', y.shape)\n",
    "\n",
    "X_train, X_test, y_train, y_test = train_test_split(X , y , stratify =y , test_size = 0.3, random_state= 100)\n",
    "print('train_test_split:',X_train.shape , X_test.shape,'\\t', y_train.shape, y_test.shape)"
   ]
  },
  {
   "cell_type": "code",
   "execution_count": 90,
   "id": "c3dd022b",
   "metadata": {},
   "outputs": [
    {
     "name": "stdout",
     "output_type": "stream",
     "text": [
      "LogisticRegression(class_weight='balanced')\n",
      "Accuracy: 0.871\n",
      "Confusion Matrix:  \n",
      " [[1013  217]\n",
      " [ 653 4910]]\n",
      "Classification Report \n",
      "               precision    recall  f1-score   support\n",
      "\n",
      "           0       0.61      0.82      0.70      1230\n",
      "           1       0.96      0.88      0.92      5563\n",
      "\n",
      "    accuracy                           0.87      6793\n",
      "   macro avg       0.78      0.85      0.81      6793\n",
      "weighted avg       0.89      0.87      0.88      6793\n",
      "\n",
      "average percision score 0.9413889306872275\n"
     ]
    },
    {
     "data": {
      "image/png": "[encoded data removed]",
      "text/plain": [
       "<Figure size 720x432 with 1 Axes>"
      ]
     },
     "metadata": {},
     "output_type": "display_data"
    }
   ],
   "source": [
    "## TF-IDF No stopwords\n",
    "tv = TfidfVectorizer(stop_words=None,ngram_range=(1,1))\n",
    "tv.fit_transform(X_train)\n",
    "train_feature_set = tv.transform(X_train)\n",
    "test_feature_set = tv.transform(X_test)\n",
    "\n",
    "# LR\n",
    "lr = LogisticRegression(class_weight = 'balanced')\n",
    "model_predictions(lr,train_feature_set,y_train, test_feature_set, y_test)\n",
    "\n",
    "\n",
    "feature_importance = lr.coef_[0]\n",
    "sorted_idx = np.argsort(feature_importance)\n",
    "top_10_pos_w = [list(tv.vocabulary_.keys())[list(tv.vocabulary_.values()).index(w)] for w in sorted_idx[range(-1,-11, -1)]]\n",
    "#print(top_10_pos_w)\n",
    "top_10_neg_w = [list(tv.vocabulary_.keys())[list(tv.vocabulary_.values()).index(w)] for w in sorted_idx[:10]]\n",
    "#print(top_10_neg_w)\n",
    "\n",
    "fig = plt.figure(figsize=(10, 6))\n",
    "ax = sns.barplot(top_10_neg_w, feature_importance[sorted_idx[:10]], color= 'tab:blue', alpha = 1, edgecolor=sns.color_palette(\"dark\", 1))\n",
    "plt.title(\"Most Important Words Used for Negative Sentiment- text not processed\",fontsize = 18)\n",
    "x_locs,x_labels = plt.xticks()\n",
    "plt.xticks(fontsize=13)\n",
    "plt.setp(x_labels, rotation = 40)\n",
    "plt.ylabel('Feature Importance', fontsize = 15)\n",
    "plt.xlabel('Word', fontsize = 15)\n",
    "plt.tight_layout()\n",
    "plt.savefig('images/neg-not-processed')"
   ]
  },
  {
   "cell_type": "code",
   "execution_count": 79,
   "id": "020474a6",
   "metadata": {},
   "outputs": [
    {
     "data": {
      "image/png": "[encoded data removed]",
      "text/plain": [
       "<Figure size 720x432 with 1 Axes>"
      ]
     },
     "metadata": {
      "needs_background": "light"
     },
     "output_type": "display_data"
    }
   ],
   "source": [
    "sns.set_palette(\"Set2\", 9)\n",
    "fig = plt.figure(figsize=(10, 6))\n",
    "ax = sns.barplot(top_10_pos_w, feature_importance[sorted_idx[range(-1,-11, -1)]], color= 'gold', alpha = 1, edgecolor=sns.color_palette(\"dark\", 1))\n",
    "plt.title(\"Most Important Words for Positive Sentiment- text not processed\",fontsize = 18)\n",
    "x_locs,x_labels = plt.xticks()\n",
    "plt.xticks(fontsize=13)\n",
    "plt.setp(x_labels, rotation = 40)\n",
    "plt.ylabel('Feature Importance', fontsize = 15)\n",
    "plt.xlabel('Word', fontsize = 15)\n",
    "plt.tight_layout()\n",
    "plt.savefig('images/pos-not-processed');"
   ]
  },
  {
   "cell_type": "code",
   "execution_count": 86,
   "id": "c7e1b25e",
   "metadata": {},
   "outputs": [
    {
     "data": {
      "image/png": "[encoded data removed]",
      "text/plain": [
       "<Figure size 576x396 with 2 Axes>"
      ]
     },
     "metadata": {},
     "output_type": "display_data"
    },
    {
     "data": {
      "text/plain": [
       "<AxesSubplot:title={'center':'LogisticRegression Classification Report'}>"
      ]
     },
     "execution_count": 86,
     "metadata": {},
     "output_type": "execute_result"
    }
   ],
   "source": [
    "from yellowbrick.classifier import ClassificationReport\n",
    "\n",
    "visualizer = ClassificationReport(lr, classes=['Not Recommended', 'Recommended'], support=True, )\n",
    "\n",
    "visualizer.fit(train_feature_set, y_train)  # Fit the visualizer and the model\n",
    "visualizer.score(test_feature_set, y_test)# Evaluate the model on the test data\n",
    "for label in visualizer.ax.texts:\n",
    "    label.set_size(13)\n",
    "plt.savefig('images/bestmodel.png', dpi=300)\n",
    "visualizer.show()             # Draw/show the data"
   ]
  },
  {
   "cell_type": "code",
   "execution_count": 88,
   "id": "58b5da0a",
   "metadata": {},
   "outputs": [
    {
     "data": {
      "image/png": "[encoded data removed]",
      "text/plain": [
       "<Figure size 576x396 with 1 Axes>"
      ]
     },
     "metadata": {},
     "output_type": "display_data"
    },
    {
     "data": {
      "text/plain": [
       "<AxesSubplot:title={'center':'ROC Curves for LogisticRegression'}, xlabel='False Positive Rate', ylabel='True Positive Rate'>"
      ]
     },
     "execution_count": 88,
     "metadata": {},
     "output_type": "execute_result"
    }
   ],
   "source": [
    "from yellowbrick.classifier import ROCAUC\n",
    "\n",
    "model = lr\n",
    "viz = ROCAUC(model)\n",
    "\n",
    "viz.fit(train_feature_set, y_train)\n",
    "viz.score(test_feature_set, y_test)\n",
    "viz.show()"
   ]
  },
  {
   "cell_type": "markdown",
   "id": "7548109b",
   "metadata": {},
   "source": [
    "# Comaprison the important words with pre-processed text"
   ]
  },
  {
   "cell_type": "code",
   "execution_count": 81,
   "id": "dcf7b6d7",
   "metadata": {},
   "outputs": [],
   "source": [
    "## TF-IDF with stopwords\n",
    "\n",
    "clean_X = X.apply(lambda x: text_prep_stop_stem(x))\n",
    "#join_clean_X = clean_X.apply(lambda x: ' '.join(x))\n",
    "X_train, X_test, y_train, y_test = train_test_split(clean_X , y , stratify =y , test_size = 0.3)"
   ]
  },
  {
   "cell_type": "code",
   "execution_count": 82,
   "id": "483fb2b9",
   "metadata": {},
   "outputs": [
    {
     "name": "stdout",
     "output_type": "stream",
     "text": [
      "LogisticRegression(class_weight='balanced')\n",
      "Accuracy: 0.884\n",
      "Confusion Matrix:  \n",
      " [[ 941  289]\n",
      " [ 528 5035]]\n",
      "Classification Report \n",
      "               precision    recall  f1-score   support\n",
      "\n",
      "           0       0.64      0.77      0.70      1230\n",
      "           1       0.95      0.91      0.92      5563\n",
      "\n",
      "    accuracy                           0.88      6793\n",
      "   macro avg       0.79      0.84      0.81      6793\n",
      "weighted avg       0.89      0.88      0.88      6793\n",
      "\n",
      "average percision score 0.9336838652397821\n"
     ]
    },
    {
     "data": {
      "image/png": "[encoded data removed]",
      "text/plain": [
       "<Figure size 720x432 with 1 Axes>"
      ]
     },
     "metadata": {
      "needs_background": "light"
     },
     "output_type": "display_data"
    }
   ],
   "source": [
    "tv = TfidfVectorizer(stop_words= sw, ngram_range=(1,2))\n",
    "tv.fit_transform(X_train)\n",
    "train_feature_set = tv.transform(X_train)\n",
    "test_feature_set = tv.transform(X_test)\n",
    "\n",
    "# LR\n",
    "lr = LogisticRegression(class_weight = 'balanced')\n",
    "model_predictions(lr,train_feature_set,y_train, test_feature_set, y_test)\n",
    "\n",
    "\n",
    "feature_importance = lr.coef_[0]\n",
    "sorted_idx = np.argsort(feature_importance)\n",
    "top_10_pos_w = [list(tv.vocabulary_.keys())[list(tv.vocabulary_.values()).index(w)] for w in sorted_idx[range(-1,-11, -1)]]\n",
    "#print(top_10_pos_w)\n",
    "top_10_neg_w = [list(tv.vocabulary_.keys())[list(tv.vocabulary_.values()).index(w)] for w in sorted_idx[:10]]\n",
    "#print(top_10_neg_w)\n",
    "\n",
    "fig = plt.figure(figsize=(10, 6))\n",
    "ax = sns.barplot(top_10_neg_w, feature_importance[sorted_idx[:10]], color= 'tab:blue', alpha = 1, edgecolor=sns.color_palette(\"dark\", 1))\n",
    "plt.title(\"Most Important Words Used for Negative Sentiment- processed text\",fontsize = 18)\n",
    "x_locs,x_labels = plt.xticks()\n",
    "plt.xticks(fontsize=13)\n",
    "plt.setp(x_labels, rotation = 40)\n",
    "plt.ylabel('Feature Importance', fontsize = 15)\n",
    "plt.xlabel('Word', fontsize = 15)\n",
    "plt.tight_layout()\n",
    "plt.savefig('images/neg-processed')"
   ]
  },
  {
   "cell_type": "code",
   "execution_count": 83,
   "id": "a009e99b",
   "metadata": {},
   "outputs": [
    {
     "data": {
      "image/png": "[encoded data removed]",
      "text/plain": [
       "<Figure size 720x432 with 1 Axes>"
      ]
     },
     "metadata": {
      "needs_background": "light"
     },
     "output_type": "display_data"
    }
   ],
   "source": [
    "sns.set_palette(\"Set2\", 9)\n",
    "fig = plt.figure(figsize=(10, 6))\n",
    "ax = sns.barplot(top_10_pos_w, feature_importance[sorted_idx[range(-1,-11, -1)]], color= 'gold', alpha = 1, edgecolor=sns.color_palette(\"dark\", 1))\n",
    "plt.title(\"Most Important Words for Positive Sentiment- processed text\",fontsize = 18)\n",
    "x_locs,x_labels = plt.xticks()\n",
    "plt.xticks(fontsize=13)\n",
    "plt.setp(x_labels, rotation = 40)\n",
    "plt.ylabel('Feature Importance', fontsize = 15)\n",
    "plt.xlabel('Word', fontsize = 15)\n",
    "plt.tight_layout()\n",
    "plt.savefig('images/pos-processed');"
   ]
  },
  {
   "cell_type": "markdown",
   "id": "37ab6426",
   "metadata": {},
   "source": [
    "## TEST"
   ]
  },
  {
   "cell_type": "code",
   "execution_count": 186,
   "id": "d9f6a331",
   "metadata": {},
   "outputs": [
    {
     "data": {
      "text/plain": [
       "array([[0.72092959, 0.27907041]])"
      ]
     },
     "execution_count": 186,
     "metadata": {},
     "output_type": "execute_result"
    }
   ],
   "source": [
    "test_review = cv.transform([\"I love the design and pattern of this top. \\\n",
    "it runs big so an xs was roomy on me but still cute. the neck is wide. \\\n",
    "i returned it bc the material of the top isn't for me. the texture is too soft.\" ])\n",
    "lr.predict_proba(test_review)"
   ]
  },
  {
   "cell_type": "code",
   "execution_count": 11,
   "id": "42d1a4a6",
   "metadata": {},
   "outputs": [
    {
     "data": {
      "text/plain": [
       "Sentiment(polarity=0.42500000000000004, subjectivity=0.65)"
      ]
     },
     "execution_count": 11,
     "metadata": {},
     "output_type": "execute_result"
    }
   ],
   "source": [
    "from textblob import TextBlob\n",
    "testimonial = TextBlob('This dress looked very cute on the website and that is why I ordered it. But I have to return it. it is very boxy.')\n",
    "testimonial.sentiment"
   ]
  },
  {
   "cell_type": "code",
   "execution_count": 318,
   "id": "28b1afaf",
   "metadata": {},
   "outputs": [
    {
     "data": {
      "text/plain": [
       "array([[9.99568538e-01, 4.31462416e-04]])"
      ]
     },
     "execution_count": 318,
     "metadata": {},
     "output_type": "execute_result"
    }
   ],
   "source": [
    "another_text =cv.transform(['This dress looked very cute on the website and that is why I ordered it. But I have to return it. It is very boxy.'])\n",
    "lr.predict_proba(another_text)"
   ]
  },
  {
   "cell_type": "markdown",
   "id": "0cefa9d1",
   "metadata": {},
   "source": [
    "## Building Pipeline for further steps"
   ]
  },
  {
   "cell_type": "code",
   "execution_count": 261,
   "id": "5f23fcfa",
   "metadata": {},
   "outputs": [
    {
     "name": "stdout",
     "output_type": "stream",
     "text": [
      "Accuracy: 0.8888561754747534\n",
      "F1: 0.933144425750465\n"
     ]
    }
   ],
   "source": [
    "pipe_logistic = Pipeline([\n",
    "    (\"vectorizer\", CountVectorizer()), \n",
    "    (\"classifier\", LogisticRegression()) #alpha=1 is the default\n",
    "])\n",
    "pipe_logistic.fit(X_train, y_train)\n",
    "predictions = pipe_logistic.predict(X_test)\n",
    "print('Accuracy:', accuracy_score(y_test, predictions))\n",
    "print('F1:', f1_score(y_test, predictions))"
   ]
  },
  {
   "cell_type": "code",
   "execution_count": 262,
   "id": "0df1d054",
   "metadata": {},
   "outputs": [
    {
     "data": {
      "text/plain": [
       "['sentiment.joblib']"
      ]
     },
     "execution_count": 262,
     "metadata": {},
     "output_type": "execute_result"
    }
   ],
   "source": [
    "dump(pipe_logistic, 'sentiment.joblib')"
   ]
  },
  {
   "cell_type": "code",
   "execution_count": 263,
   "id": "0330774c",
   "metadata": {},
   "outputs": [
    {
     "name": "stdout",
     "output_type": "stream",
     "text": [
      "Accuracy: 0.8888561754747534\n",
      "F1: 0.933144425750465\n"
     ]
    }
   ],
   "source": [
    "loaded_model = load('sentiment.joblib')\n",
    "predictions = loaded_model.predict(X_test)\n",
    "print('Accuracy:', accuracy_score(y_test, predictions))\n",
    "print('F1:', f1_score(y_test, predictions))"
   ]
  }
 ],
 "metadata": {
  "kernelspec": {
   "display_name": "Python 3",
   "language": "python",
   "name": "python3"
  },
  "language_info": {
   "codemirror_mode": {
    "name": "ipython",
    "version": 3
   },
   "file_extension": ".py",
   "mimetype": "text/x-python",
   "name": "python",
   "nbconvert_exporter": "python",
   "pygments_lexer": "ipython3",
   "version": "3.8.10"
  }
 },
 "nbformat": 4,
 "nbformat_minor": 5
}
